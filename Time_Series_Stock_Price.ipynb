{
 "cells": [
  {
   "cell_type": "code",
   "execution_count": 1,
   "id": "532b58b7",
   "metadata": {},
   "outputs": [],
   "source": [
    "import numpy as np\n",
    "import pandas as pd\n",
    "import seaborn as sns\n",
    "import matplotlib.pyplot as plt\n",
    "from pylab import rcParams\n",
    "import warnings\n",
    "warnings.filterwarnings(\"ignore\")"
   ]
  },
  {
   "cell_type": "markdown",
   "id": "b458914b",
   "metadata": {},
   "source": [
    "## TATA CONSULTANCY SERVICES LIMITED Equities details over the last 2 years (07 Apr 2020 - 01 Apr 2022)"
   ]
  },
  {
   "cell_type": "code",
   "execution_count": 2,
   "id": "e71ae116",
   "metadata": {},
   "outputs": [
    {
     "data": {
      "text/html": [
       "<div>\n",
       "<style scoped>\n",
       "    .dataframe tbody tr th:only-of-type {\n",
       "        vertical-align: middle;\n",
       "    }\n",
       "\n",
       "    .dataframe tbody tr th {\n",
       "        vertical-align: top;\n",
       "    }\n",
       "\n",
       "    .dataframe thead th {\n",
       "        text-align: right;\n",
       "    }\n",
       "</style>\n",
       "<table border=\"1\" class=\"dataframe\">\n",
       "  <thead>\n",
       "    <tr style=\"text-align: right;\">\n",
       "      <th></th>\n",
       "      <th>series</th>\n",
       "      <th>OPEN</th>\n",
       "      <th>HIGH</th>\n",
       "      <th>LOW</th>\n",
       "      <th>PREV. CLOSE</th>\n",
       "      <th>ltp</th>\n",
       "      <th>close</th>\n",
       "      <th>vwap</th>\n",
       "      <th>52W H</th>\n",
       "      <th>52W L</th>\n",
       "      <th>VOLUME</th>\n",
       "      <th>VALUE</th>\n",
       "      <th>No of trades</th>\n",
       "    </tr>\n",
       "    <tr>\n",
       "      <th>Date</th>\n",
       "      <th></th>\n",
       "      <th></th>\n",
       "      <th></th>\n",
       "      <th></th>\n",
       "      <th></th>\n",
       "      <th></th>\n",
       "      <th></th>\n",
       "      <th></th>\n",
       "      <th></th>\n",
       "      <th></th>\n",
       "      <th></th>\n",
       "      <th></th>\n",
       "      <th></th>\n",
       "    </tr>\n",
       "  </thead>\n",
       "  <tbody>\n",
       "    <tr>\n",
       "      <th>2022-04-01</th>\n",
       "      <td>EQ</td>\n",
       "      <td>3,748.00</td>\n",
       "      <td>3,763.00</td>\n",
       "      <td>3,728.05</td>\n",
       "      <td>3,739.95</td>\n",
       "      <td>3,759.00</td>\n",
       "      <td>3,758.75</td>\n",
       "      <td>3,747.37</td>\n",
       "      <td>4,043.00</td>\n",
       "      <td>3,004.00</td>\n",
       "      <td>1387014</td>\n",
       "      <td>5,19,76,52,138.25</td>\n",
       "      <td>91136</td>\n",
       "    </tr>\n",
       "    <tr>\n",
       "      <th>2022-03-31</th>\n",
       "      <td>EQ</td>\n",
       "      <td>3,740.00</td>\n",
       "      <td>3,754.65</td>\n",
       "      <td>3,720.20</td>\n",
       "      <td>3,731.55</td>\n",
       "      <td>3,742.85</td>\n",
       "      <td>3,739.95</td>\n",
       "      <td>3,743.43</td>\n",
       "      <td>4,043.00</td>\n",
       "      <td>3,004.00</td>\n",
       "      <td>2168110</td>\n",
       "      <td>8,11,61,63,209.35</td>\n",
       "      <td>146788</td>\n",
       "    </tr>\n",
       "    <tr>\n",
       "      <th>2022-03-30</th>\n",
       "      <td>EQ</td>\n",
       "      <td>3,738.00</td>\n",
       "      <td>3,738.00</td>\n",
       "      <td>3,706.20</td>\n",
       "      <td>3,705.35</td>\n",
       "      <td>3,730.00</td>\n",
       "      <td>3,731.55</td>\n",
       "      <td>3,723.34</td>\n",
       "      <td>4,043.00</td>\n",
       "      <td>3,004.00</td>\n",
       "      <td>1583455</td>\n",
       "      <td>5,89,57,44,278.15</td>\n",
       "      <td>109724</td>\n",
       "    </tr>\n",
       "    <tr>\n",
       "      <th>2022-03-29</th>\n",
       "      <td>EQ</td>\n",
       "      <td>3,694.75</td>\n",
       "      <td>3,722.00</td>\n",
       "      <td>3,691.00</td>\n",
       "      <td>3,707.70</td>\n",
       "      <td>3,701.00</td>\n",
       "      <td>3,705.35</td>\n",
       "      <td>3,707.08</td>\n",
       "      <td>4,043.00</td>\n",
       "      <td>3,004.00</td>\n",
       "      <td>2689063</td>\n",
       "      <td>9,96,85,77,738.75</td>\n",
       "      <td>166424</td>\n",
       "    </tr>\n",
       "    <tr>\n",
       "      <th>2022-03-28</th>\n",
       "      <td>EQ</td>\n",
       "      <td>3,695.00</td>\n",
       "      <td>3,713.00</td>\n",
       "      <td>3,661.20</td>\n",
       "      <td>3,707.45</td>\n",
       "      <td>3,700.00</td>\n",
       "      <td>3,707.70</td>\n",
       "      <td>3,689.86</td>\n",
       "      <td>4,043.00</td>\n",
       "      <td>3,004.00</td>\n",
       "      <td>1760990</td>\n",
       "      <td>6,49,78,04,966.20</td>\n",
       "      <td>119630</td>\n",
       "    </tr>\n",
       "  </tbody>\n",
       "</table>\n",
       "</div>"
      ],
      "text/plain": [
       "           series      OPEN      HIGH       LOW PREV. CLOSE       ltp  \\\n",
       "Date                                                                    \n",
       "2022-04-01     EQ  3,748.00  3,763.00  3,728.05    3,739.95  3,759.00   \n",
       "2022-03-31     EQ  3,740.00  3,754.65  3,720.20    3,731.55  3,742.85   \n",
       "2022-03-30     EQ  3,738.00  3,738.00  3,706.20    3,705.35  3,730.00   \n",
       "2022-03-29     EQ  3,694.75  3,722.00  3,691.00    3,707.70  3,701.00   \n",
       "2022-03-28     EQ  3,695.00  3,713.00  3,661.20    3,707.45  3,700.00   \n",
       "\n",
       "               close      vwap     52W H     52W L   VOLUME  \\\n",
       "Date                                                          \n",
       "2022-04-01  3,758.75  3,747.37  4,043.00  3,004.00  1387014   \n",
       "2022-03-31  3,739.95  3,743.43  4,043.00  3,004.00  2168110   \n",
       "2022-03-30  3,731.55  3,723.34  4,043.00  3,004.00  1583455   \n",
       "2022-03-29  3,705.35  3,707.08  4,043.00  3,004.00  2689063   \n",
       "2022-03-28  3,707.70  3,689.86  4,043.00  3,004.00  1760990   \n",
       "\n",
       "                        VALUE  No of trades  \n",
       "Date                                         \n",
       "2022-04-01  5,19,76,52,138.25         91136  \n",
       "2022-03-31  8,11,61,63,209.35        146788  \n",
       "2022-03-30  5,89,57,44,278.15        109724  \n",
       "2022-03-29  9,96,85,77,738.75        166424  \n",
       "2022-03-28  6,49,78,04,966.20        119630  "
      ]
     },
     "execution_count": 2,
     "metadata": {},
     "output_type": "execute_result"
    }
   ],
   "source": [
    "df = pd.read_csv(\"Quote-Equity-TCS-EQ-04-04-2020-to-04-04-2022.csv\",index_col=\"Date\",parse_dates=True)\n",
    "df.head()"
   ]
  },
  {
   "cell_type": "markdown",
   "id": "404e5492",
   "metadata": {},
   "source": [
    "### Considering the \"close\" price feature for analysis"
   ]
  },
  {
   "cell_type": "code",
   "execution_count": 3,
   "id": "fcafea4b",
   "metadata": {},
   "outputs": [
    {
     "data": {
      "text/html": [
       "<div>\n",
       "<style scoped>\n",
       "    .dataframe tbody tr th:only-of-type {\n",
       "        vertical-align: middle;\n",
       "    }\n",
       "\n",
       "    .dataframe tbody tr th {\n",
       "        vertical-align: top;\n",
       "    }\n",
       "\n",
       "    .dataframe thead th {\n",
       "        text-align: right;\n",
       "    }\n",
       "</style>\n",
       "<table border=\"1\" class=\"dataframe\">\n",
       "  <thead>\n",
       "    <tr style=\"text-align: right;\">\n",
       "      <th></th>\n",
       "      <th>close</th>\n",
       "    </tr>\n",
       "    <tr>\n",
       "      <th>Date</th>\n",
       "      <th></th>\n",
       "    </tr>\n",
       "  </thead>\n",
       "  <tbody>\n",
       "    <tr>\n",
       "      <th>2022-04-01</th>\n",
       "      <td>3,758.75</td>\n",
       "    </tr>\n",
       "    <tr>\n",
       "      <th>2022-03-31</th>\n",
       "      <td>3,739.95</td>\n",
       "    </tr>\n",
       "    <tr>\n",
       "      <th>2022-03-30</th>\n",
       "      <td>3,731.55</td>\n",
       "    </tr>\n",
       "    <tr>\n",
       "      <th>2022-03-29</th>\n",
       "      <td>3,705.35</td>\n",
       "    </tr>\n",
       "    <tr>\n",
       "      <th>2022-03-28</th>\n",
       "      <td>3,707.70</td>\n",
       "    </tr>\n",
       "  </tbody>\n",
       "</table>\n",
       "</div>"
      ],
      "text/plain": [
       "               close\n",
       "Date                \n",
       "2022-04-01  3,758.75\n",
       "2022-03-31  3,739.95\n",
       "2022-03-30  3,731.55\n",
       "2022-03-29  3,705.35\n",
       "2022-03-28  3,707.70"
      ]
     },
     "execution_count": 3,
     "metadata": {},
     "output_type": "execute_result"
    }
   ],
   "source": [
    "data = pd.DataFrame(df[\"close\"])\n",
    "data.head()"
   ]
  },
  {
   "cell_type": "markdown",
   "id": "07f412c4",
   "metadata": {},
   "source": [
    "### Arranging dates in chronological order"
   ]
  },
  {
   "cell_type": "code",
   "execution_count": 4,
   "id": "c92ef0ec",
   "metadata": {},
   "outputs": [
    {
     "data": {
      "text/html": [
       "<div>\n",
       "<style scoped>\n",
       "    .dataframe tbody tr th:only-of-type {\n",
       "        vertical-align: middle;\n",
       "    }\n",
       "\n",
       "    .dataframe tbody tr th {\n",
       "        vertical-align: top;\n",
       "    }\n",
       "\n",
       "    .dataframe thead th {\n",
       "        text-align: right;\n",
       "    }\n",
       "</style>\n",
       "<table border=\"1\" class=\"dataframe\">\n",
       "  <thead>\n",
       "    <tr style=\"text-align: right;\">\n",
       "      <th></th>\n",
       "      <th>close</th>\n",
       "    </tr>\n",
       "    <tr>\n",
       "      <th>Date</th>\n",
       "      <th></th>\n",
       "    </tr>\n",
       "  </thead>\n",
       "  <tbody>\n",
       "    <tr>\n",
       "      <th>2020-04-07</th>\n",
       "      <td>1,775.20</td>\n",
       "    </tr>\n",
       "    <tr>\n",
       "      <th>2020-04-08</th>\n",
       "      <td>1,705.45</td>\n",
       "    </tr>\n",
       "    <tr>\n",
       "      <th>2020-04-09</th>\n",
       "      <td>1,766.15</td>\n",
       "    </tr>\n",
       "    <tr>\n",
       "      <th>2020-04-13</th>\n",
       "      <td>1,759.25</td>\n",
       "    </tr>\n",
       "    <tr>\n",
       "      <th>2020-04-15</th>\n",
       "      <td>1,735.15</td>\n",
       "    </tr>\n",
       "    <tr>\n",
       "      <th>2020-04-16</th>\n",
       "      <td>1,716.05</td>\n",
       "    </tr>\n",
       "    <tr>\n",
       "      <th>2020-04-17</th>\n",
       "      <td>1,806.20</td>\n",
       "    </tr>\n",
       "    <tr>\n",
       "      <th>2020-04-20</th>\n",
       "      <td>1,818.65</td>\n",
       "    </tr>\n",
       "    <tr>\n",
       "      <th>2020-04-21</th>\n",
       "      <td>1,737.65</td>\n",
       "    </tr>\n",
       "    <tr>\n",
       "      <th>2020-04-22</th>\n",
       "      <td>1,769.50</td>\n",
       "    </tr>\n",
       "  </tbody>\n",
       "</table>\n",
       "</div>"
      ],
      "text/plain": [
       "               close\n",
       "Date                \n",
       "2020-04-07  1,775.20\n",
       "2020-04-08  1,705.45\n",
       "2020-04-09  1,766.15\n",
       "2020-04-13  1,759.25\n",
       "2020-04-15  1,735.15\n",
       "2020-04-16  1,716.05\n",
       "2020-04-17  1,806.20\n",
       "2020-04-20  1,818.65\n",
       "2020-04-21  1,737.65\n",
       "2020-04-22  1,769.50"
      ]
     },
     "execution_count": 4,
     "metadata": {},
     "output_type": "execute_result"
    }
   ],
   "source": [
    "data.sort_index(inplace=True)\n",
    "data.head(10)"
   ]
  },
  {
   "cell_type": "code",
   "execution_count": 5,
   "id": "13dd9fa9",
   "metadata": {},
   "outputs": [
    {
     "data": {
      "text/html": [
       "<div>\n",
       "<style scoped>\n",
       "    .dataframe tbody tr th:only-of-type {\n",
       "        vertical-align: middle;\n",
       "    }\n",
       "\n",
       "    .dataframe tbody tr th {\n",
       "        vertical-align: top;\n",
       "    }\n",
       "\n",
       "    .dataframe thead th {\n",
       "        text-align: right;\n",
       "    }\n",
       "</style>\n",
       "<table border=\"1\" class=\"dataframe\">\n",
       "  <thead>\n",
       "    <tr style=\"text-align: right;\">\n",
       "      <th></th>\n",
       "      <th>close</th>\n",
       "    </tr>\n",
       "    <tr>\n",
       "      <th>Date</th>\n",
       "      <th></th>\n",
       "    </tr>\n",
       "  </thead>\n",
       "  <tbody>\n",
       "    <tr>\n",
       "      <th>2022-03-21</th>\n",
       "      <td>3,626.70</td>\n",
       "    </tr>\n",
       "    <tr>\n",
       "      <th>2022-03-22</th>\n",
       "      <td>3,700.95</td>\n",
       "    </tr>\n",
       "    <tr>\n",
       "      <th>2022-03-23</th>\n",
       "      <td>3,712.40</td>\n",
       "    </tr>\n",
       "    <tr>\n",
       "      <th>2022-03-24</th>\n",
       "      <td>3,749.85</td>\n",
       "    </tr>\n",
       "    <tr>\n",
       "      <th>2022-03-25</th>\n",
       "      <td>3,707.45</td>\n",
       "    </tr>\n",
       "    <tr>\n",
       "      <th>2022-03-28</th>\n",
       "      <td>3,707.70</td>\n",
       "    </tr>\n",
       "    <tr>\n",
       "      <th>2022-03-29</th>\n",
       "      <td>3,705.35</td>\n",
       "    </tr>\n",
       "    <tr>\n",
       "      <th>2022-03-30</th>\n",
       "      <td>3,731.55</td>\n",
       "    </tr>\n",
       "    <tr>\n",
       "      <th>2022-03-31</th>\n",
       "      <td>3,739.95</td>\n",
       "    </tr>\n",
       "    <tr>\n",
       "      <th>2022-04-01</th>\n",
       "      <td>3,758.75</td>\n",
       "    </tr>\n",
       "  </tbody>\n",
       "</table>\n",
       "</div>"
      ],
      "text/plain": [
       "               close\n",
       "Date                \n",
       "2022-03-21  3,626.70\n",
       "2022-03-22  3,700.95\n",
       "2022-03-23  3,712.40\n",
       "2022-03-24  3,749.85\n",
       "2022-03-25  3,707.45\n",
       "2022-03-28  3,707.70\n",
       "2022-03-29  3,705.35\n",
       "2022-03-30  3,731.55\n",
       "2022-03-31  3,739.95\n",
       "2022-04-01  3,758.75"
      ]
     },
     "execution_count": 5,
     "metadata": {},
     "output_type": "execute_result"
    }
   ],
   "source": [
    "data.tail(10)"
   ]
  },
  {
   "cell_type": "markdown",
   "id": "28955cf0",
   "metadata": {},
   "source": [
    "We can see that there are missing dates ie weekends and holidays. Hence, adding the missing dates and filling the \"close\" feature with close price of the previous day."
   ]
  },
  {
   "cell_type": "code",
   "execution_count": 6,
   "id": "e8d045f1",
   "metadata": {},
   "outputs": [
    {
     "data": {
      "text/html": [
       "<div>\n",
       "<style scoped>\n",
       "    .dataframe tbody tr th:only-of-type {\n",
       "        vertical-align: middle;\n",
       "    }\n",
       "\n",
       "    .dataframe tbody tr th {\n",
       "        vertical-align: top;\n",
       "    }\n",
       "\n",
       "    .dataframe thead th {\n",
       "        text-align: right;\n",
       "    }\n",
       "</style>\n",
       "<table border=\"1\" class=\"dataframe\">\n",
       "  <thead>\n",
       "    <tr style=\"text-align: right;\">\n",
       "      <th></th>\n",
       "      <th>close</th>\n",
       "    </tr>\n",
       "    <tr>\n",
       "      <th>Date</th>\n",
       "      <th></th>\n",
       "    </tr>\n",
       "  </thead>\n",
       "  <tbody>\n",
       "    <tr>\n",
       "      <th>2020-04-07</th>\n",
       "      <td>1,775.20</td>\n",
       "    </tr>\n",
       "    <tr>\n",
       "      <th>2020-04-08</th>\n",
       "      <td>1,705.45</td>\n",
       "    </tr>\n",
       "    <tr>\n",
       "      <th>2020-04-09</th>\n",
       "      <td>1,766.15</td>\n",
       "    </tr>\n",
       "    <tr>\n",
       "      <th>2020-04-10</th>\n",
       "      <td>1,766.15</td>\n",
       "    </tr>\n",
       "    <tr>\n",
       "      <th>2020-04-11</th>\n",
       "      <td>1,766.15</td>\n",
       "    </tr>\n",
       "    <tr>\n",
       "      <th>2020-04-12</th>\n",
       "      <td>1,766.15</td>\n",
       "    </tr>\n",
       "    <tr>\n",
       "      <th>2020-04-13</th>\n",
       "      <td>1,759.25</td>\n",
       "    </tr>\n",
       "    <tr>\n",
       "      <th>2020-04-14</th>\n",
       "      <td>1,759.25</td>\n",
       "    </tr>\n",
       "    <tr>\n",
       "      <th>2020-04-15</th>\n",
       "      <td>1,735.15</td>\n",
       "    </tr>\n",
       "    <tr>\n",
       "      <th>2020-04-16</th>\n",
       "      <td>1,716.05</td>\n",
       "    </tr>\n",
       "  </tbody>\n",
       "</table>\n",
       "</div>"
      ],
      "text/plain": [
       "               close\n",
       "Date                \n",
       "2020-04-07  1,775.20\n",
       "2020-04-08  1,705.45\n",
       "2020-04-09  1,766.15\n",
       "2020-04-10  1,766.15\n",
       "2020-04-11  1,766.15\n",
       "2020-04-12  1,766.15\n",
       "2020-04-13  1,759.25\n",
       "2020-04-14  1,759.25\n",
       "2020-04-15  1,735.15\n",
       "2020-04-16  1,716.05"
      ]
     },
     "execution_count": 6,
     "metadata": {},
     "output_type": "execute_result"
    }
   ],
   "source": [
    "data = data.resample(\"D\").ffill()\n",
    "data.head(10)"
   ]
  },
  {
   "cell_type": "code",
   "execution_count": 7,
   "id": "2a3f32d1",
   "metadata": {},
   "outputs": [
    {
     "data": {
      "text/html": [
       "<div>\n",
       "<style scoped>\n",
       "    .dataframe tbody tr th:only-of-type {\n",
       "        vertical-align: middle;\n",
       "    }\n",
       "\n",
       "    .dataframe tbody tr th {\n",
       "        vertical-align: top;\n",
       "    }\n",
       "\n",
       "    .dataframe thead th {\n",
       "        text-align: right;\n",
       "    }\n",
       "</style>\n",
       "<table border=\"1\" class=\"dataframe\">\n",
       "  <thead>\n",
       "    <tr style=\"text-align: right;\">\n",
       "      <th></th>\n",
       "      <th>close</th>\n",
       "    </tr>\n",
       "    <tr>\n",
       "      <th>Date</th>\n",
       "      <th></th>\n",
       "    </tr>\n",
       "  </thead>\n",
       "  <tbody>\n",
       "    <tr>\n",
       "      <th>2022-03-23</th>\n",
       "      <td>3,712.40</td>\n",
       "    </tr>\n",
       "    <tr>\n",
       "      <th>2022-03-24</th>\n",
       "      <td>3,749.85</td>\n",
       "    </tr>\n",
       "    <tr>\n",
       "      <th>2022-03-25</th>\n",
       "      <td>3,707.45</td>\n",
       "    </tr>\n",
       "    <tr>\n",
       "      <th>2022-03-26</th>\n",
       "      <td>3,707.45</td>\n",
       "    </tr>\n",
       "    <tr>\n",
       "      <th>2022-03-27</th>\n",
       "      <td>3,707.45</td>\n",
       "    </tr>\n",
       "    <tr>\n",
       "      <th>2022-03-28</th>\n",
       "      <td>3,707.70</td>\n",
       "    </tr>\n",
       "    <tr>\n",
       "      <th>2022-03-29</th>\n",
       "      <td>3,705.35</td>\n",
       "    </tr>\n",
       "    <tr>\n",
       "      <th>2022-03-30</th>\n",
       "      <td>3,731.55</td>\n",
       "    </tr>\n",
       "    <tr>\n",
       "      <th>2022-03-31</th>\n",
       "      <td>3,739.95</td>\n",
       "    </tr>\n",
       "    <tr>\n",
       "      <th>2022-04-01</th>\n",
       "      <td>3,758.75</td>\n",
       "    </tr>\n",
       "  </tbody>\n",
       "</table>\n",
       "</div>"
      ],
      "text/plain": [
       "               close\n",
       "Date                \n",
       "2022-03-23  3,712.40\n",
       "2022-03-24  3,749.85\n",
       "2022-03-25  3,707.45\n",
       "2022-03-26  3,707.45\n",
       "2022-03-27  3,707.45\n",
       "2022-03-28  3,707.70\n",
       "2022-03-29  3,705.35\n",
       "2022-03-30  3,731.55\n",
       "2022-03-31  3,739.95\n",
       "2022-04-01  3,758.75"
      ]
     },
     "execution_count": 7,
     "metadata": {},
     "output_type": "execute_result"
    }
   ],
   "source": [
    "data.tail(10)"
   ]
  },
  {
   "cell_type": "markdown",
   "id": "b896f89e",
   "metadata": {},
   "source": [
    "### Converting \"close\" feature to float datatype"
   ]
  },
  {
   "cell_type": "code",
   "execution_count": 8,
   "id": "c7fa20a7",
   "metadata": {},
   "outputs": [
    {
     "data": {
      "text/html": [
       "<div>\n",
       "<style scoped>\n",
       "    .dataframe tbody tr th:only-of-type {\n",
       "        vertical-align: middle;\n",
       "    }\n",
       "\n",
       "    .dataframe tbody tr th {\n",
       "        vertical-align: top;\n",
       "    }\n",
       "\n",
       "    .dataframe thead th {\n",
       "        text-align: right;\n",
       "    }\n",
       "</style>\n",
       "<table border=\"1\" class=\"dataframe\">\n",
       "  <thead>\n",
       "    <tr style=\"text-align: right;\">\n",
       "      <th></th>\n",
       "      <th>close</th>\n",
       "    </tr>\n",
       "    <tr>\n",
       "      <th>Date</th>\n",
       "      <th></th>\n",
       "    </tr>\n",
       "  </thead>\n",
       "  <tbody>\n",
       "    <tr>\n",
       "      <th>2020-04-07</th>\n",
       "      <td>1775.20</td>\n",
       "    </tr>\n",
       "    <tr>\n",
       "      <th>2020-04-08</th>\n",
       "      <td>1705.45</td>\n",
       "    </tr>\n",
       "    <tr>\n",
       "      <th>2020-04-09</th>\n",
       "      <td>1766.15</td>\n",
       "    </tr>\n",
       "    <tr>\n",
       "      <th>2020-04-10</th>\n",
       "      <td>1766.15</td>\n",
       "    </tr>\n",
       "    <tr>\n",
       "      <th>2020-04-11</th>\n",
       "      <td>1766.15</td>\n",
       "    </tr>\n",
       "  </tbody>\n",
       "</table>\n",
       "</div>"
      ],
      "text/plain": [
       "              close\n",
       "Date               \n",
       "2020-04-07  1775.20\n",
       "2020-04-08  1705.45\n",
       "2020-04-09  1766.15\n",
       "2020-04-10  1766.15\n",
       "2020-04-11  1766.15"
      ]
     },
     "execution_count": 8,
     "metadata": {},
     "output_type": "execute_result"
    }
   ],
   "source": [
    "for i in range(len(data)):\n",
    "    data[\"close\"][i] = data[\"close\"][i].replace(\",\",\"\")\n",
    "data.head()"
   ]
  },
  {
   "cell_type": "code",
   "execution_count": 9,
   "id": "468c77e2",
   "metadata": {},
   "outputs": [
    {
     "name": "stdout",
     "output_type": "stream",
     "text": [
      "<class 'pandas.core.frame.DataFrame'>\n",
      "DatetimeIndex: 725 entries, 2020-04-07 to 2022-04-01\n",
      "Freq: D\n",
      "Data columns (total 1 columns):\n",
      " #   Column  Non-Null Count  Dtype  \n",
      "---  ------  --------------  -----  \n",
      " 0   close   725 non-null    float64\n",
      "dtypes: float64(1)\n",
      "memory usage: 11.3 KB\n"
     ]
    }
   ],
   "source": [
    "data[\"close\"] = data[\"close\"].astype(\"float\")\n",
    "data.info()"
   ]
  },
  {
   "cell_type": "code",
   "execution_count": 10,
   "id": "a7034a6a",
   "metadata": {},
   "outputs": [
    {
     "name": "stdout",
     "output_type": "stream",
     "text": [
      "Total number of records: 725\n"
     ]
    }
   ],
   "source": [
    "print(\"Total number of records:\",data.shape[0])"
   ]
  },
  {
   "cell_type": "markdown",
   "id": "b807739f",
   "metadata": {},
   "source": [
    "### Plotting the close price over the last 2 years"
   ]
  },
  {
   "cell_type": "code",
   "execution_count": 11,
   "id": "61dcd30b",
   "metadata": {},
   "outputs": [
    {
     "data": {
      "text/plain": [
       "[<matplotlib.lines.Line2D at 0x23d12d62760>]"
      ]
     },
     "execution_count": 11,
     "metadata": {},
     "output_type": "execute_result"
    },
    {
     "data": {
      "image/png": "[encoded data removed]",
      "text/plain": [
       "<Figure size 1008x504 with 1 Axes>"
      ]
     },
     "metadata": {
      "needs_background": "light"
     },
     "output_type": "display_data"
    }
   ],
   "source": [
    "rcParams[\"figure.figsize\"] = 14,7\n",
    "plt.plot(data)"
   ]
  },
  {
   "cell_type": "markdown",
   "id": "2eae282d",
   "metadata": {},
   "source": [
    "We can see that there is no seasonality. "
   ]
  },
  {
   "cell_type": "markdown",
   "id": "440c1fac",
   "metadata": {},
   "source": [
    "### Applying seasonal decompose to check the Trend, Seasonality and Residuals"
   ]
  },
  {
   "cell_type": "code",
   "execution_count": 12,
   "id": "307cab73",
   "metadata": {},
   "outputs": [],
   "source": [
    "import  scipy.signal.signaltools\n",
    "\n",
    "def _centered(arr, newsize):\n",
    "    # Return the center newsize portion of the array.\n",
    "    newsize = np.asarray(newsize)\n",
    "    currsize = np.array(arr.shape)\n",
    "    startind = (currsize - newsize) // 2\n",
    "    endind = startind + newsize\n",
    "    myslice = [slice(startind[k], endind[k]) for k in range(len(endind))]\n",
    "    return arr[tuple(myslice)]\n",
    "\n",
    "scipy.signal.signaltools._centered = _centered"
   ]
  },
  {
   "cell_type": "code",
   "execution_count": 13,
   "id": "a84ed9c1",
   "metadata": {},
   "outputs": [],
   "source": [
    "from statsmodels.tsa.seasonal import seasonal_decompose"
   ]
  },
  {
   "cell_type": "markdown",
   "id": "48d08b5f",
   "metadata": {},
   "source": [
    "### Additive model"
   ]
  },
  {
   "cell_type": "code",
   "execution_count": 14,
   "id": "629afd04",
   "metadata": {},
   "outputs": [
    {
     "data": {
      "image/png": "[encoded data removed]",
      "text/plain": [
       "<Figure size 1008x504 with 4 Axes>"
      ]
     },
     "metadata": {
      "needs_background": "light"
     },
     "output_type": "display_data"
    }
   ],
   "source": [
    "decomp_add = seasonal_decompose(data, model=\"additive\")\n",
    "decomp_add.plot();"
   ]
  },
  {
   "cell_type": "markdown",
   "id": "d192e7a3",
   "metadata": {},
   "source": [
    "### Mulitplicative"
   ]
  },
  {
   "cell_type": "code",
   "execution_count": 15,
   "id": "a0902108",
   "metadata": {},
   "outputs": [
    {
     "data": {
      "image/png": "[encoded data removed]",
      "text/plain": [
       "<Figure size 1008x504 with 4 Axes>"
      ]
     },
     "metadata": {
      "needs_background": "light"
     },
     "output_type": "display_data"
    }
   ],
   "source": [
    "decomp_mul = seasonal_decompose(data, model=\"muliplicative\")\n",
    "decomp_mul.plot();"
   ]
  },
  {
   "cell_type": "markdown",
   "id": "285eaf77",
   "metadata": {},
   "source": [
    "### Splitting data for training and testing Smoothing predictions"
   ]
  },
  {
   "cell_type": "code",
   "execution_count": 16,
   "id": "eff46687",
   "metadata": {},
   "outputs": [
    {
     "data": {
      "text/plain": [
       "603"
      ]
     },
     "execution_count": 16,
     "metadata": {},
     "output_type": "execute_result"
    }
   ],
   "source": [
    "len(data[data.index < '2021-12'])"
   ]
  },
  {
   "cell_type": "code",
   "execution_count": 17,
   "id": "72d311e4",
   "metadata": {},
   "outputs": [
    {
     "data": {
      "text/plain": [
       "122"
      ]
     },
     "execution_count": 17,
     "metadata": {},
     "output_type": "execute_result"
    }
   ],
   "source": [
    "len(data[data.index >= '2021-12'])"
   ]
  },
  {
   "cell_type": "code",
   "execution_count": 18,
   "id": "b7579e50",
   "metadata": {},
   "outputs": [],
   "source": [
    "train = data[data.index <= \"2021-12\"]\n",
    "test = data[data.index > \"2021-12\"]"
   ]
  },
  {
   "cell_type": "code",
   "execution_count": 19,
   "id": "51008041",
   "metadata": {},
   "outputs": [
    {
     "data": {
      "text/html": [
       "<div>\n",
       "<style scoped>\n",
       "    .dataframe tbody tr th:only-of-type {\n",
       "        vertical-align: middle;\n",
       "    }\n",
       "\n",
       "    .dataframe tbody tr th {\n",
       "        vertical-align: top;\n",
       "    }\n",
       "\n",
       "    .dataframe thead th {\n",
       "        text-align: right;\n",
       "    }\n",
       "</style>\n",
       "<table border=\"1\" class=\"dataframe\">\n",
       "  <thead>\n",
       "    <tr style=\"text-align: right;\">\n",
       "      <th></th>\n",
       "      <th>close</th>\n",
       "    </tr>\n",
       "    <tr>\n",
       "      <th>Date</th>\n",
       "      <th></th>\n",
       "    </tr>\n",
       "  </thead>\n",
       "  <tbody>\n",
       "    <tr>\n",
       "      <th>2020-04-07</th>\n",
       "      <td>1775.20</td>\n",
       "    </tr>\n",
       "    <tr>\n",
       "      <th>2020-04-08</th>\n",
       "      <td>1705.45</td>\n",
       "    </tr>\n",
       "    <tr>\n",
       "      <th>2020-04-09</th>\n",
       "      <td>1766.15</td>\n",
       "    </tr>\n",
       "    <tr>\n",
       "      <th>2020-04-10</th>\n",
       "      <td>1766.15</td>\n",
       "    </tr>\n",
       "    <tr>\n",
       "      <th>2020-04-11</th>\n",
       "      <td>1766.15</td>\n",
       "    </tr>\n",
       "    <tr>\n",
       "      <th>...</th>\n",
       "      <td>...</td>\n",
       "    </tr>\n",
       "    <tr>\n",
       "      <th>2021-11-27</th>\n",
       "      <td>3446.85</td>\n",
       "    </tr>\n",
       "    <tr>\n",
       "      <th>2021-11-28</th>\n",
       "      <td>3446.85</td>\n",
       "    </tr>\n",
       "    <tr>\n",
       "      <th>2021-11-29</th>\n",
       "      <td>3502.00</td>\n",
       "    </tr>\n",
       "    <tr>\n",
       "      <th>2021-11-30</th>\n",
       "      <td>3529.15</td>\n",
       "    </tr>\n",
       "    <tr>\n",
       "      <th>2021-12-01</th>\n",
       "      <td>3577.80</td>\n",
       "    </tr>\n",
       "  </tbody>\n",
       "</table>\n",
       "<p>604 rows × 1 columns</p>\n",
       "</div>"
      ],
      "text/plain": [
       "              close\n",
       "Date               \n",
       "2020-04-07  1775.20\n",
       "2020-04-08  1705.45\n",
       "2020-04-09  1766.15\n",
       "2020-04-10  1766.15\n",
       "2020-04-11  1766.15\n",
       "...             ...\n",
       "2021-11-27  3446.85\n",
       "2021-11-28  3446.85\n",
       "2021-11-29  3502.00\n",
       "2021-11-30  3529.15\n",
       "2021-12-01  3577.80\n",
       "\n",
       "[604 rows x 1 columns]"
      ]
     },
     "metadata": {},
     "output_type": "display_data"
    }
   ],
   "source": [
    "display(train)"
   ]
  },
  {
   "cell_type": "code",
   "execution_count": 20,
   "id": "2cb5996c",
   "metadata": {},
   "outputs": [
    {
     "data": {
      "text/html": [
       "<div>\n",
       "<style scoped>\n",
       "    .dataframe tbody tr th:only-of-type {\n",
       "        vertical-align: middle;\n",
       "    }\n",
       "\n",
       "    .dataframe tbody tr th {\n",
       "        vertical-align: top;\n",
       "    }\n",
       "\n",
       "    .dataframe thead th {\n",
       "        text-align: right;\n",
       "    }\n",
       "</style>\n",
       "<table border=\"1\" class=\"dataframe\">\n",
       "  <thead>\n",
       "    <tr style=\"text-align: right;\">\n",
       "      <th></th>\n",
       "      <th>close</th>\n",
       "    </tr>\n",
       "    <tr>\n",
       "      <th>Date</th>\n",
       "      <th></th>\n",
       "    </tr>\n",
       "  </thead>\n",
       "  <tbody>\n",
       "    <tr>\n",
       "      <th>2021-12-02</th>\n",
       "      <td>3642.90</td>\n",
       "    </tr>\n",
       "    <tr>\n",
       "      <th>2021-12-03</th>\n",
       "      <td>3640.45</td>\n",
       "    </tr>\n",
       "    <tr>\n",
       "      <th>2021-12-04</th>\n",
       "      <td>3640.45</td>\n",
       "    </tr>\n",
       "    <tr>\n",
       "      <th>2021-12-05</th>\n",
       "      <td>3640.45</td>\n",
       "    </tr>\n",
       "    <tr>\n",
       "      <th>2021-12-06</th>\n",
       "      <td>3536.40</td>\n",
       "    </tr>\n",
       "    <tr>\n",
       "      <th>...</th>\n",
       "      <td>...</td>\n",
       "    </tr>\n",
       "    <tr>\n",
       "      <th>2022-03-28</th>\n",
       "      <td>3707.70</td>\n",
       "    </tr>\n",
       "    <tr>\n",
       "      <th>2022-03-29</th>\n",
       "      <td>3705.35</td>\n",
       "    </tr>\n",
       "    <tr>\n",
       "      <th>2022-03-30</th>\n",
       "      <td>3731.55</td>\n",
       "    </tr>\n",
       "    <tr>\n",
       "      <th>2022-03-31</th>\n",
       "      <td>3739.95</td>\n",
       "    </tr>\n",
       "    <tr>\n",
       "      <th>2022-04-01</th>\n",
       "      <td>3758.75</td>\n",
       "    </tr>\n",
       "  </tbody>\n",
       "</table>\n",
       "<p>121 rows × 1 columns</p>\n",
       "</div>"
      ],
      "text/plain": [
       "              close\n",
       "Date               \n",
       "2021-12-02  3642.90\n",
       "2021-12-03  3640.45\n",
       "2021-12-04  3640.45\n",
       "2021-12-05  3640.45\n",
       "2021-12-06  3536.40\n",
       "...             ...\n",
       "2022-03-28  3707.70\n",
       "2022-03-29  3705.35\n",
       "2022-03-30  3731.55\n",
       "2022-03-31  3739.95\n",
       "2022-04-01  3758.75\n",
       "\n",
       "[121 rows x 1 columns]"
      ]
     },
     "metadata": {},
     "output_type": "display_data"
    }
   ],
   "source": [
    "display(test)"
   ]
  },
  {
   "cell_type": "code",
   "execution_count": 21,
   "id": "02035f43",
   "metadata": {},
   "outputs": [],
   "source": [
    "from statsmodels.tsa.api import ExponentialSmoothing, SimpleExpSmoothing, Holt"
   ]
  },
  {
   "cell_type": "markdown",
   "id": "f8fb6609",
   "metadata": {},
   "source": [
    "### Simple Exponential Smoothing model"
   ]
  },
  {
   "cell_type": "code",
   "execution_count": 22,
   "id": "4fa42a65",
   "metadata": {},
   "outputs": [],
   "source": [
    "model_SES = SimpleExpSmoothing(train, initialization_method='estimated')"
   ]
  },
  {
   "cell_type": "code",
   "execution_count": 23,
   "id": "2be796bd",
   "metadata": {},
   "outputs": [],
   "source": [
    "model_SES_autofit = model_SES.fit(optimized=True)"
   ]
  },
  {
   "cell_type": "code",
   "execution_count": 24,
   "id": "48cb91d2",
   "metadata": {},
   "outputs": [
    {
     "data": {
      "text/plain": [
       "{'smoothing_level': 0.9999999850988388,\n",
       " 'smoothing_trend': nan,\n",
       " 'smoothing_seasonal': nan,\n",
       " 'damping_trend': nan,\n",
       " 'initial_level': 1775.2015497879877,\n",
       " 'initial_trend': nan,\n",
       " 'initial_seasons': array([], dtype=float64),\n",
       " 'use_boxcox': False,\n",
       " 'lamda': None,\n",
       " 'remove_bias': False}"
      ]
     },
     "execution_count": 24,
     "metadata": {},
     "output_type": "execute_result"
    }
   ],
   "source": [
    "model_SES_autofit.params"
   ]
  },
  {
   "cell_type": "code",
   "execution_count": 25,
   "id": "605dcbac",
   "metadata": {},
   "outputs": [],
   "source": [
    "SES_predict= model_SES_autofit.forecast(steps = len(test))"
   ]
  },
  {
   "cell_type": "code",
   "execution_count": 26,
   "id": "4be32b40",
   "metadata": {},
   "outputs": [
    {
     "data": {
      "text/plain": [
       "2021-12-02    3577.799999\n",
       "2021-12-03    3577.799999\n",
       "2021-12-04    3577.799999\n",
       "2021-12-05    3577.799999\n",
       "2021-12-06    3577.799999\n",
       "                 ...     \n",
       "2022-03-28    3577.799999\n",
       "2022-03-29    3577.799999\n",
       "2022-03-30    3577.799999\n",
       "2022-03-31    3577.799999\n",
       "2022-04-01    3577.799999\n",
       "Freq: D, Length: 121, dtype: float64"
      ]
     },
     "execution_count": 26,
     "metadata": {},
     "output_type": "execute_result"
    }
   ],
   "source": [
    "SES_predict"
   ]
  },
  {
   "cell_type": "code",
   "execution_count": 27,
   "id": "327a6dde",
   "metadata": {},
   "outputs": [
    {
     "data": {
      "image/png": "[encoded data removed]",
      "text/plain": [
       "<Figure size 1008x504 with 1 Axes>"
      ]
     },
     "metadata": {
      "needs_background": "light"
     },
     "output_type": "display_data"
    }
   ],
   "source": [
    "plt.plot(train, label='Train')\n",
    "plt.plot(test, label='Test')\n",
    "\n",
    "plt.plot(SES_predict, label='Alpha =0.99 Simple Exponential Smoothing predictions on Test Set')\n",
    "\n",
    "plt.legend(loc='best')\n",
    "plt.grid()\n",
    "plt.title('Alpha = 0.99 Predictions');"
   ]
  },
  {
   "cell_type": "code",
   "execution_count": 28,
   "id": "e8243bde",
   "metadata": {},
   "outputs": [],
   "source": [
    "from sklearn.metrics import mean_squared_error"
   ]
  },
  {
   "cell_type": "code",
   "execution_count": 29,
   "id": "a459a33f",
   "metadata": {},
   "outputs": [
    {
     "name": "stdout",
     "output_type": "stream",
     "text": [
      "SES MSE: 175.1964599108387\n"
     ]
    }
   ],
   "source": [
    "print('SES MSE:',mean_squared_error(test.values,SES_predict.values,squared=False))"
   ]
  },
  {
   "cell_type": "code",
   "execution_count": 30,
   "id": "9ea89ca9",
   "metadata": {},
   "outputs": [],
   "source": [
    "import statsmodels.tools.eval_measures as em"
   ]
  },
  {
   "cell_type": "code",
   "execution_count": 31,
   "id": "b8598a9f",
   "metadata": {},
   "outputs": [],
   "source": [
    "def MAPE(y_true, y_pred):\n",
    "    return np.mean((np.abs(y_true-y_pred))/(y_true))*100"
   ]
  },
  {
   "cell_type": "code",
   "execution_count": 32,
   "id": "3784e025",
   "metadata": {
    "scrolled": true
   },
   "outputs": [
    {
     "name": "stdout",
     "output_type": "stream",
     "text": [
      "SES RMSE (calculated using statsmodels): 30693.799565290126\n",
      "SES MAPE : 3.721733075904601\n"
     ]
    }
   ],
   "source": [
    "print('SES RMSE (calculated using statsmodels):',em.mse(test.values,SES_predict.values)[0])\n",
    "print('SES MAPE :',MAPE(test.values,SES_predict.values))"
   ]
  },
  {
   "cell_type": "code",
   "execution_count": 33,
   "id": "01f0cb48",
   "metadata": {},
   "outputs": [
    {
     "data": {
      "text/html": [
       "<div>\n",
       "<style scoped>\n",
       "    .dataframe tbody tr th:only-of-type {\n",
       "        vertical-align: middle;\n",
       "    }\n",
       "\n",
       "    .dataframe tbody tr th {\n",
       "        vertical-align: top;\n",
       "    }\n",
       "\n",
       "    .dataframe thead th {\n",
       "        text-align: right;\n",
       "    }\n",
       "</style>\n",
       "<table border=\"1\" class=\"dataframe\">\n",
       "  <thead>\n",
       "    <tr style=\"text-align: right;\">\n",
       "      <th></th>\n",
       "      <th>Test RMSE</th>\n",
       "    </tr>\n",
       "  </thead>\n",
       "  <tbody>\n",
       "    <tr>\n",
       "      <th>Alpha=0.99,SES</th>\n",
       "      <td>175.19646</td>\n",
       "    </tr>\n",
       "  </tbody>\n",
       "</table>\n",
       "</div>"
      ],
      "text/plain": [
       "                Test RMSE\n",
       "Alpha=0.99,SES  175.19646"
      ]
     },
     "execution_count": 33,
     "metadata": {},
     "output_type": "execute_result"
    }
   ],
   "source": [
    "resultsDf = pd.DataFrame({'Test RMSE': [em.rmse(test.values,SES_predict.values)[0]]},index=['Alpha=0.99,SES'])\n",
    "resultsDf"
   ]
  },
  {
   "cell_type": "markdown",
   "id": "5b5ace34",
   "metadata": {},
   "source": [
    "### Double Exponential Smoothing model"
   ]
  },
  {
   "cell_type": "code",
   "execution_count": 34,
   "id": "feb032b4",
   "metadata": {},
   "outputs": [],
   "source": [
    "model_DES = Holt(train,initialization_method='estimated')"
   ]
  },
  {
   "cell_type": "code",
   "execution_count": 35,
   "id": "771cab96",
   "metadata": {},
   "outputs": [],
   "source": [
    "model_DES = model_DES.fit()"
   ]
  },
  {
   "cell_type": "code",
   "execution_count": 36,
   "id": "4b0b2554",
   "metadata": {},
   "outputs": [
    {
     "name": "stdout",
     "output_type": "stream",
     "text": [
      "\n",
      "==Holt model Exponential Smoothing Estimated Parameters ==\n",
      "\n",
      "{'smoothing_level': 0.995, 'smoothing_trend': 0.02369047619047619, 'smoothing_seasonal': nan, 'damping_trend': nan, 'initial_level': 1764.1499999999992, 'initial_trend': -2.3009090909089878, 'initial_seasons': array([], dtype=float64), 'use_boxcox': False, 'lamda': None, 'remove_bias': False}\n"
     ]
    }
   ],
   "source": [
    "print('')\n",
    "print('==Holt model Exponential Smoothing Estimated Parameters ==')\n",
    "print('')\n",
    "print(model_DES.params)"
   ]
  },
  {
   "cell_type": "code",
   "execution_count": 37,
   "id": "50c26475",
   "metadata": {},
   "outputs": [
    {
     "data": {
      "text/plain": [
       "2021-12-02    3578.280383\n",
       "2021-12-03    3579.006898\n",
       "2021-12-04    3579.733414\n",
       "2021-12-05    3580.459929\n",
       "2021-12-06    3581.186445\n",
       "                 ...     \n",
       "2022-03-28    3662.556187\n",
       "2022-03-29    3663.282703\n",
       "2022-03-30    3664.009218\n",
       "2022-03-31    3664.735734\n",
       "2022-04-01    3665.462249\n",
       "Freq: D, Length: 121, dtype: float64"
      ]
     },
     "execution_count": 37,
     "metadata": {},
     "output_type": "execute_result"
    }
   ],
   "source": [
    "DES_predict =  model_DES.forecast(len(test))\n",
    "DES_predict"
   ]
  },
  {
   "cell_type": "code",
   "execution_count": 38,
   "id": "c54799e5",
   "metadata": {},
   "outputs": [
    {
     "data": {
      "image/png": "[encoded data removed]",
      "text/plain": [
       "<Figure size 1008x504 with 1 Axes>"
      ]
     },
     "metadata": {
      "needs_background": "light"
     },
     "output_type": "display_data"
    }
   ],
   "source": [
    "plt.plot(train, label='Train')\n",
    "plt.plot(test, label='Test')\n",
    "\n",
    "plt.plot(SES_predict, label='Alpha=0.99:Simple Exponential Smoothing predictions on Test Set')\n",
    "plt.plot(DES_predict, label='Alpha=0.99,Beta=0.023:Double Exponential Smoothing predictions on Test Set')\n",
    "\n",
    "plt.legend(loc='best')\n",
    "plt.grid()\n",
    "plt.title('Simple and Double Exponential Smoothing Predictions');"
   ]
  },
  {
   "cell_type": "code",
   "execution_count": 39,
   "id": "8efee0aa",
   "metadata": {},
   "outputs": [
    {
     "name": "stdout",
     "output_type": "stream",
     "text": [
      "DES RMSE: 150.57533830811462\n",
      "DES MAPE : 3.0924955607545366\n"
     ]
    }
   ],
   "source": [
    "print('DES RMSE:',mean_squared_error(test.values,DES_predict.values,squared=False))\n",
    "print('DES MAPE :',MAPE(test.values,DES_predict.values))"
   ]
  },
  {
   "cell_type": "code",
   "execution_count": 40,
   "id": "2ea9e97b",
   "metadata": {},
   "outputs": [
    {
     "data": {
      "text/html": [
       "<div>\n",
       "<style scoped>\n",
       "    .dataframe tbody tr th:only-of-type {\n",
       "        vertical-align: middle;\n",
       "    }\n",
       "\n",
       "    .dataframe tbody tr th {\n",
       "        vertical-align: top;\n",
       "    }\n",
       "\n",
       "    .dataframe thead th {\n",
       "        text-align: right;\n",
       "    }\n",
       "</style>\n",
       "<table border=\"1\" class=\"dataframe\">\n",
       "  <thead>\n",
       "    <tr style=\"text-align: right;\">\n",
       "      <th></th>\n",
       "      <th>Test RMSE</th>\n",
       "    </tr>\n",
       "  </thead>\n",
       "  <tbody>\n",
       "    <tr>\n",
       "      <th>Alpha=0.99,SES</th>\n",
       "      <td>175.196460</td>\n",
       "    </tr>\n",
       "    <tr>\n",
       "      <th>Alpha=0.99,Beta=0.023:DES</th>\n",
       "      <td>150.575338</td>\n",
       "    </tr>\n",
       "  </tbody>\n",
       "</table>\n",
       "</div>"
      ],
      "text/plain": [
       "                            Test RMSE\n",
       "Alpha=0.99,SES             175.196460\n",
       "Alpha=0.99,Beta=0.023:DES  150.575338"
      ]
     },
     "execution_count": 40,
     "metadata": {},
     "output_type": "execute_result"
    }
   ],
   "source": [
    "resultsDf_temp = pd.DataFrame({'Test RMSE': [mean_squared_error(test.values,DES_predict.values,squared=False)]}\n",
    "                           ,index=['Alpha=0.99,Beta=0.023:DES'])\n",
    "\n",
    "resultsDf = pd.concat([resultsDf, resultsDf_temp])\n",
    "resultsDf"
   ]
  },
  {
   "cell_type": "markdown",
   "id": "3e4cc566",
   "metadata": {},
   "source": [
    "### Triple Exponential Smoothing model"
   ]
  },
  {
   "cell_type": "code",
   "execution_count": 41,
   "id": "bccb1826",
   "metadata": {},
   "outputs": [],
   "source": [
    "model_TES = ExponentialSmoothing(train,trend='multiplicative',seasonal='multiplicative',initialization_method='estimated')"
   ]
  },
  {
   "cell_type": "code",
   "execution_count": 42,
   "id": "867d04b0",
   "metadata": {},
   "outputs": [
    {
     "name": "stdout",
     "output_type": "stream",
     "text": [
      "\n",
      "==Holt Winters model Exponential Smoothing Estimated Parameters ==\n",
      "\n",
      "{'smoothing_level': 0.8889290402989499, 'smoothing_trend': 0.00010390604113660438, 'smoothing_seasonal': 0.11107048606070583, 'damping_trend': nan, 'initial_level': 1748.8830106130904, 'initial_trend': 1.0016858026769024, 'initial_seasons': array([1.01381668, 1.00177937, 1.00922571, 1.01099715, 1.01303951,\n",
      "       1.01570654, 1.02018475]), 'use_boxcox': False, 'lamda': None, 'remove_bias': False}\n"
     ]
    }
   ],
   "source": [
    "# Fitting the model\n",
    "model_TES = model_TES.fit()\n",
    "\n",
    "print('')\n",
    "print('==Holt Winters model Exponential Smoothing Estimated Parameters ==')\n",
    "print('')\n",
    "print(model_TES.params)"
   ]
  },
  {
   "cell_type": "code",
   "execution_count": 43,
   "id": "7ed3b82c",
   "metadata": {},
   "outputs": [
    {
     "data": {
      "text/plain": [
       "2021-12-02    3579.088837\n",
       "2021-12-03    3597.575579\n",
       "2021-12-04    3606.443106\n",
       "2021-12-05    3608.692410\n",
       "2021-12-06    3614.503888\n",
       "                 ...     \n",
       "2022-03-28    4351.630696\n",
       "2022-03-29    4354.441516\n",
       "2022-03-30    4350.709369\n",
       "2022-03-31    4359.267523\n",
       "2022-04-01    4381.784051\n",
       "Freq: D, Length: 121, dtype: float64"
      ]
     },
     "execution_count": 43,
     "metadata": {},
     "output_type": "execute_result"
    }
   ],
   "source": [
    "# Forecasting using this model for the duration of the test set\n",
    "TES_predict =  model_TES.forecast(len(test))\n",
    "TES_predict"
   ]
  },
  {
   "cell_type": "code",
   "execution_count": 44,
   "id": "8f77eb62",
   "metadata": {},
   "outputs": [
    {
     "data": {
      "image/png": "[encoded data removed]",
      "text/plain": [
       "<Figure size 1008x504 with 1 Axes>"
      ]
     },
     "metadata": {
      "needs_background": "light"
     },
     "output_type": "display_data"
    }
   ],
   "source": [
    "## Plotting the Training data, Test data and the forecasted values\n",
    "\n",
    "plt.plot(train, label='Train')\n",
    "plt.plot(test, label='Test')\n",
    "\n",
    "plt.plot(SES_predict, label='Alpha=0.99:Simple Exponential Smoothing predictions on Test Set')\n",
    "plt.plot(DES_predict, label='Alpha=0.99,Beta=0.023:Double Exponential Smoothing predictions on Test Set')\n",
    "plt.plot(TES_predict, label='Alpha=0.25,Beta=0.0,Gamma=0.74:Triple Exponential Smoothing predictions on Test Set')\n",
    "\n",
    "plt.legend(loc='best')\n",
    "plt.grid()\n",
    "plt.title('Simple,Double and Triple Exponential Smoothing Predictions');"
   ]
  },
  {
   "cell_type": "markdown",
   "id": "13b34e68",
   "metadata": {},
   "source": [
    "### Auto-correlation plot"
   ]
  },
  {
   "cell_type": "code",
   "execution_count": 45,
   "id": "7e4dd992",
   "metadata": {},
   "outputs": [],
   "source": [
    "from statsmodels.graphics.tsaplots import plot_acf,plot_pacf"
   ]
  },
  {
   "cell_type": "code",
   "execution_count": 46,
   "id": "f23a5030",
   "metadata": {},
   "outputs": [
    {
     "data": {
      "image/png": "[encoded data removed]",
      "text/plain": [
       "<Figure size 1008x504 with 1 Axes>"
      ]
     },
     "metadata": {
      "needs_background": "light"
     },
     "output_type": "display_data"
    }
   ],
   "source": [
    "plot_acf(data,lags=50,ax=plt.gca());"
   ]
  },
  {
   "cell_type": "markdown",
   "id": "eabf0547",
   "metadata": {},
   "source": [
    "## Auto Regression - AR Model"
   ]
  },
  {
   "cell_type": "code",
   "execution_count": 47,
   "id": "58903815",
   "metadata": {},
   "outputs": [],
   "source": [
    "from statsmodels.tsa.arima_model import ARMA"
   ]
  },
  {
   "cell_type": "code",
   "execution_count": 48,
   "id": "58a3abfa",
   "metadata": {},
   "outputs": [
    {
     "data": {
      "text/html": [
       "<table class=\"simpletable\">\n",
       "<caption>ARMA Model Results</caption>\n",
       "<tr>\n",
       "  <th>Dep. Variable:</th>       <td>close</td>      <th>  No. Observations:  </th>    <td>725</td>   \n",
       "</tr>\n",
       "<tr>\n",
       "  <th>Model:</th>            <td>ARMA(1, 0)</td>    <th>  Log Likelihood     </th> <td>-3656.951</td>\n",
       "</tr>\n",
       "<tr>\n",
       "  <th>Method:</th>             <td>css-mle</td>     <th>  S.D. of innovations</th>  <td>37.367</td>  \n",
       "</tr>\n",
       "<tr>\n",
       "  <th>Date:</th>          <td>Wed, 06 Apr 2022</td> <th>  AIC                </th> <td>7319.902</td> \n",
       "</tr>\n",
       "<tr>\n",
       "  <th>Time:</th>              <td>23:00:57</td>     <th>  BIC                </th> <td>7333.661</td> \n",
       "</tr>\n",
       "<tr>\n",
       "  <th>Sample:</th>           <td>04-07-2020</td>    <th>  HQIC               </th> <td>7325.212</td> \n",
       "</tr>\n",
       "<tr>\n",
       "  <th></th>                 <td>- 04-01-2022</td>   <th>                     </th>     <td> </td>    \n",
       "</tr>\n",
       "</table>\n",
       "<table class=\"simpletable\">\n",
       "<tr>\n",
       "       <td></td>          <th>coef</th>     <th>std err</th>      <th>z</th>      <th>P>|z|</th>  <th>[0.025</th>    <th>0.975]</th>  \n",
       "</tr>\n",
       "<tr>\n",
       "  <th>const</th>       <td> 2837.2910</td> <td>  752.906</td> <td>    3.768</td> <td> 0.000</td> <td> 1361.623</td> <td> 4312.959</td>\n",
       "</tr>\n",
       "<tr>\n",
       "  <th>ar.L1.close</th> <td>    0.9991</td> <td>    0.001</td> <td>  886.452</td> <td> 0.000</td> <td>    0.997</td> <td>    1.001</td>\n",
       "</tr>\n",
       "</table>\n",
       "<table class=\"simpletable\">\n",
       "<caption>Roots</caption>\n",
       "<tr>\n",
       "    <td></td>   <th>            Real</th>  <th>         Imaginary</th> <th>         Modulus</th>  <th>        Frequency</th>\n",
       "</tr>\n",
       "<tr>\n",
       "  <th>AR.1</th> <td>           1.0009</td> <td>          +0.0000j</td> <td>           1.0009</td> <td>           0.0000</td>\n",
       "</tr>\n",
       "</table>"
      ],
      "text/plain": [
       "<class 'statsmodels.iolib.summary.Summary'>\n",
       "\"\"\"\n",
       "                              ARMA Model Results                              \n",
       "==============================================================================\n",
       "Dep. Variable:                  close   No. Observations:                  725\n",
       "Model:                     ARMA(1, 0)   Log Likelihood               -3656.951\n",
       "Method:                       css-mle   S.D. of innovations             37.367\n",
       "Date:                Wed, 06 Apr 2022   AIC                           7319.902\n",
       "Time:                        23:00:57   BIC                           7333.661\n",
       "Sample:                    04-07-2020   HQIC                          7325.212\n",
       "                         - 04-01-2022                                         \n",
       "===============================================================================\n",
       "                  coef    std err          z      P>|z|      [0.025      0.975]\n",
       "-------------------------------------------------------------------------------\n",
       "const        2837.2910    752.906      3.768      0.000    1361.623    4312.959\n",
       "ar.L1.close     0.9991      0.001    886.452      0.000       0.997       1.001\n",
       "                                    Roots                                    \n",
       "=============================================================================\n",
       "                  Real          Imaginary           Modulus         Frequency\n",
       "-----------------------------------------------------------------------------\n",
       "AR.1            1.0009           +0.0000j            1.0009            0.0000\n",
       "-----------------------------------------------------------------------------\n",
       "\"\"\""
      ]
     },
     "execution_count": 48,
     "metadata": {},
     "output_type": "execute_result"
    }
   ],
   "source": [
    "# lag 1\n",
    "ARMA(data,order=[1,0]).fit().summary()"
   ]
  },
  {
   "cell_type": "code",
   "execution_count": 49,
   "id": "1173aaa0",
   "metadata": {},
   "outputs": [
    {
     "data": {
      "text/html": [
       "<table class=\"simpletable\">\n",
       "<caption>ARMA Model Results</caption>\n",
       "<tr>\n",
       "  <th>Dep. Variable:</th>       <td>close</td>      <th>  No. Observations:  </th>    <td>725</td>   \n",
       "</tr>\n",
       "<tr>\n",
       "  <th>Model:</th>            <td>ARMA(2, 0)</td>    <th>  Log Likelihood     </th> <td>-3656.925</td>\n",
       "</tr>\n",
       "<tr>\n",
       "  <th>Method:</th>             <td>css-mle</td>     <th>  S.D. of innovations</th>  <td>37.366</td>  \n",
       "</tr>\n",
       "<tr>\n",
       "  <th>Date:</th>          <td>Wed, 06 Apr 2022</td> <th>  AIC                </th> <td>7321.849</td> \n",
       "</tr>\n",
       "<tr>\n",
       "  <th>Time:</th>              <td>23:00:57</td>     <th>  BIC                </th> <td>7340.194</td> \n",
       "</tr>\n",
       "<tr>\n",
       "  <th>Sample:</th>           <td>04-07-2020</td>    <th>  HQIC               </th> <td>7328.929</td> \n",
       "</tr>\n",
       "<tr>\n",
       "  <th></th>                 <td>- 04-01-2022</td>   <th>                     </th>     <td> </td>    \n",
       "</tr>\n",
       "</table>\n",
       "<table class=\"simpletable\">\n",
       "<tr>\n",
       "       <td></td>          <th>coef</th>     <th>std err</th>      <th>z</th>      <th>P>|z|</th>  <th>[0.025</th>    <th>0.975]</th>  \n",
       "</tr>\n",
       "<tr>\n",
       "  <th>const</th>       <td> 2811.5027</td> <td>  754.497</td> <td>    3.726</td> <td> 0.000</td> <td> 1332.716</td> <td> 4290.289</td>\n",
       "</tr>\n",
       "<tr>\n",
       "  <th>ar.L1.close</th> <td>    1.0077</td> <td>    0.036</td> <td>   27.961</td> <td> 0.000</td> <td>    0.937</td> <td>    1.078</td>\n",
       "</tr>\n",
       "<tr>\n",
       "  <th>ar.L2.close</th> <td>   -0.0086</td> <td>    0.036</td> <td>   -0.239</td> <td> 0.811</td> <td>   -0.079</td> <td>    0.062</td>\n",
       "</tr>\n",
       "</table>\n",
       "<table class=\"simpletable\">\n",
       "<caption>Roots</caption>\n",
       "<tr>\n",
       "    <td></td>   <th>            Real</th>  <th>         Imaginary</th> <th>         Modulus</th>  <th>        Frequency</th>\n",
       "</tr>\n",
       "<tr>\n",
       "  <th>AR.1</th> <td>           1.0009</td> <td>          +0.0000j</td> <td>           1.0009</td> <td>           0.0000</td>\n",
       "</tr>\n",
       "<tr>\n",
       "  <th>AR.2</th> <td>         116.0620</td> <td>          +0.0000j</td> <td>         116.0620</td> <td>           0.0000</td>\n",
       "</tr>\n",
       "</table>"
      ],
      "text/plain": [
       "<class 'statsmodels.iolib.summary.Summary'>\n",
       "\"\"\"\n",
       "                              ARMA Model Results                              \n",
       "==============================================================================\n",
       "Dep. Variable:                  close   No. Observations:                  725\n",
       "Model:                     ARMA(2, 0)   Log Likelihood               -3656.925\n",
       "Method:                       css-mle   S.D. of innovations             37.366\n",
       "Date:                Wed, 06 Apr 2022   AIC                           7321.849\n",
       "Time:                        23:00:57   BIC                           7340.194\n",
       "Sample:                    04-07-2020   HQIC                          7328.929\n",
       "                         - 04-01-2022                                         \n",
       "===============================================================================\n",
       "                  coef    std err          z      P>|z|      [0.025      0.975]\n",
       "-------------------------------------------------------------------------------\n",
       "const        2811.5027    754.497      3.726      0.000    1332.716    4290.289\n",
       "ar.L1.close     1.0077      0.036     27.961      0.000       0.937       1.078\n",
       "ar.L2.close    -0.0086      0.036     -0.239      0.811      -0.079       0.062\n",
       "                                    Roots                                    \n",
       "=============================================================================\n",
       "                  Real          Imaginary           Modulus         Frequency\n",
       "-----------------------------------------------------------------------------\n",
       "AR.1            1.0009           +0.0000j            1.0009            0.0000\n",
       "AR.2          116.0620           +0.0000j          116.0620            0.0000\n",
       "-----------------------------------------------------------------------------\n",
       "\"\"\""
      ]
     },
     "execution_count": 49,
     "metadata": {},
     "output_type": "execute_result"
    }
   ],
   "source": [
    "# lag 2\n",
    "ARMA(data,order=[2,0]).fit().summary()"
   ]
  },
  {
   "cell_type": "code",
   "execution_count": 50,
   "id": "00cef0e4",
   "metadata": {},
   "outputs": [
    {
     "data": {
      "text/html": [
       "<table class=\"simpletable\">\n",
       "<caption>ARMA Model Results</caption>\n",
       "<tr>\n",
       "  <th>Dep. Variable:</th>       <td>close</td>      <th>  No. Observations:  </th>    <td>725</td>   \n",
       "</tr>\n",
       "<tr>\n",
       "  <th>Model:</th>            <td>ARMA(3, 0)</td>    <th>  Log Likelihood     </th> <td>-3656.763</td>\n",
       "</tr>\n",
       "<tr>\n",
       "  <th>Method:</th>             <td>css-mle</td>     <th>  S.D. of innovations</th>  <td>37.357</td>  \n",
       "</tr>\n",
       "<tr>\n",
       "  <th>Date:</th>          <td>Wed, 06 Apr 2022</td> <th>  AIC                </th> <td>7323.526</td> \n",
       "</tr>\n",
       "<tr>\n",
       "  <th>Time:</th>              <td>23:00:57</td>     <th>  BIC                </th> <td>7346.457</td> \n",
       "</tr>\n",
       "<tr>\n",
       "  <th>Sample:</th>           <td>04-07-2020</td>    <th>  HQIC               </th> <td>7332.376</td> \n",
       "</tr>\n",
       "<tr>\n",
       "  <th></th>                 <td>- 04-01-2022</td>   <th>                     </th>     <td> </td>    \n",
       "</tr>\n",
       "</table>\n",
       "<table class=\"simpletable\">\n",
       "<tr>\n",
       "       <td></td>          <th>coef</th>     <th>std err</th>      <th>z</th>      <th>P>|z|</th>  <th>[0.025</th>    <th>0.975]</th>  \n",
       "</tr>\n",
       "<tr>\n",
       "  <th>const</th>       <td> 2820.3253</td> <td>  759.970</td> <td>    3.711</td> <td> 0.000</td> <td> 1330.812</td> <td> 4309.839</td>\n",
       "</tr>\n",
       "<tr>\n",
       "  <th>ar.L1.close</th> <td>    1.0079</td> <td>    0.036</td> <td>   28.078</td> <td> 0.000</td> <td>    0.938</td> <td>    1.078</td>\n",
       "</tr>\n",
       "<tr>\n",
       "  <th>ar.L2.close</th> <td>   -0.0300</td> <td>    0.052</td> <td>   -0.577</td> <td> 0.564</td> <td>   -0.132</td> <td>    0.072</td>\n",
       "</tr>\n",
       "<tr>\n",
       "  <th>ar.L3.close</th> <td>    0.0212</td> <td>    0.037</td> <td>    0.568</td> <td> 0.570</td> <td>   -0.052</td> <td>    0.094</td>\n",
       "</tr>\n",
       "</table>\n",
       "<table class=\"simpletable\">\n",
       "<caption>Roots</caption>\n",
       "<tr>\n",
       "    <td></td>   <th>            Real</th>  <th>         Imaginary</th> <th>         Modulus</th>  <th>        Frequency</th>\n",
       "</tr>\n",
       "<tr>\n",
       "  <th>AR.1</th> <td>           1.0009</td> <td>          -0.0000j</td> <td>           1.0009</td> <td>          -0.0000</td>\n",
       "</tr>\n",
       "<tr>\n",
       "  <th>AR.2</th> <td>           0.2082</td> <td>          -6.8632j</td> <td>           6.8663</td> <td>          -0.2452</td>\n",
       "</tr>\n",
       "<tr>\n",
       "  <th>AR.3</th> <td>           0.2082</td> <td>          +6.8632j</td> <td>           6.8663</td> <td>           0.2452</td>\n",
       "</tr>\n",
       "</table>"
      ],
      "text/plain": [
       "<class 'statsmodels.iolib.summary.Summary'>\n",
       "\"\"\"\n",
       "                              ARMA Model Results                              \n",
       "==============================================================================\n",
       "Dep. Variable:                  close   No. Observations:                  725\n",
       "Model:                     ARMA(3, 0)   Log Likelihood               -3656.763\n",
       "Method:                       css-mle   S.D. of innovations             37.357\n",
       "Date:                Wed, 06 Apr 2022   AIC                           7323.526\n",
       "Time:                        23:00:57   BIC                           7346.457\n",
       "Sample:                    04-07-2020   HQIC                          7332.376\n",
       "                         - 04-01-2022                                         \n",
       "===============================================================================\n",
       "                  coef    std err          z      P>|z|      [0.025      0.975]\n",
       "-------------------------------------------------------------------------------\n",
       "const        2820.3253    759.970      3.711      0.000    1330.812    4309.839\n",
       "ar.L1.close     1.0079      0.036     28.078      0.000       0.938       1.078\n",
       "ar.L2.close    -0.0300      0.052     -0.577      0.564      -0.132       0.072\n",
       "ar.L3.close     0.0212      0.037      0.568      0.570      -0.052       0.094\n",
       "                                    Roots                                    \n",
       "=============================================================================\n",
       "                  Real          Imaginary           Modulus         Frequency\n",
       "-----------------------------------------------------------------------------\n",
       "AR.1            1.0009           -0.0000j            1.0009           -0.0000\n",
       "AR.2            0.2082           -6.8632j            6.8663           -0.2452\n",
       "AR.3            0.2082           +6.8632j            6.8663            0.2452\n",
       "-----------------------------------------------------------------------------\n",
       "\"\"\""
      ]
     },
     "execution_count": 50,
     "metadata": {},
     "output_type": "execute_result"
    }
   ],
   "source": [
    "# lag 3\n",
    "ARMA(data,order=[3,0]).fit().summary()"
   ]
  },
  {
   "cell_type": "markdown",
   "id": "38bc3fa9",
   "metadata": {},
   "source": [
    "The AIC values are increasing as we are increasing the lags in ARMA model"
   ]
  },
  {
   "cell_type": "markdown",
   "id": "fd4ea2c8",
   "metadata": {},
   "source": [
    "### Partial-Auto Correlation function plot"
   ]
  },
  {
   "cell_type": "code",
   "execution_count": 51,
   "id": "2f10c185",
   "metadata": {},
   "outputs": [
    {
     "data": {
      "image/png": "[encoded data removed]",
      "text/plain": [
       "<Figure size 1008x504 with 1 Axes>"
      ]
     },
     "metadata": {
      "needs_background": "light"
     },
     "output_type": "display_data"
    }
   ],
   "source": [
    "plot_pacf(data,lags=20,ax=plt.gca());"
   ]
  },
  {
   "cell_type": "markdown",
   "id": "4625684b",
   "metadata": {},
   "source": [
    "## ARIMA model"
   ]
  },
  {
   "cell_type": "code",
   "execution_count": 52,
   "id": "a9a4a917",
   "metadata": {},
   "outputs": [],
   "source": [
    "from statsmodels.tsa.arima.model import ARIMA"
   ]
  },
  {
   "cell_type": "code",
   "execution_count": 53,
   "id": "7ee41287",
   "metadata": {},
   "outputs": [
    {
     "data": {
      "text/html": [
       "<table class=\"simpletable\">\n",
       "<caption>SARIMAX Results</caption>\n",
       "<tr>\n",
       "  <th>Dep. Variable:</th>         <td>close</td>      <th>  No. Observations:  </th>    <td>725</td>   \n",
       "</tr>\n",
       "<tr>\n",
       "  <th>Model:</th>            <td>ARIMA(0, 0, 1)</td>  <th>  Log Likelihood     </th> <td>-5207.364</td>\n",
       "</tr>\n",
       "<tr>\n",
       "  <th>Date:</th>            <td>Wed, 06 Apr 2022</td> <th>  AIC                </th> <td>10420.728</td>\n",
       "</tr>\n",
       "<tr>\n",
       "  <th>Time:</th>                <td>23:00:57</td>     <th>  BIC                </th> <td>10434.487</td>\n",
       "</tr>\n",
       "<tr>\n",
       "  <th>Sample:</th>             <td>04-07-2020</td>    <th>  HQIC               </th> <td>10426.038</td>\n",
       "</tr>\n",
       "<tr>\n",
       "  <th></th>                   <td>- 04-01-2022</td>   <th>                     </th>     <td> </td>    \n",
       "</tr>\n",
       "<tr>\n",
       "  <th>Covariance Type:</th>        <td>opg</td>       <th>                     </th>     <td> </td>    \n",
       "</tr>\n",
       "</table>\n",
       "<table class=\"simpletable\">\n",
       "<tr>\n",
       "     <td></td>       <th>coef</th>     <th>std err</th>      <th>z</th>      <th>P>|z|</th>  <th>[0.025</th>    <th>0.975]</th>  \n",
       "</tr>\n",
       "<tr>\n",
       "  <th>const</th>  <td> 3019.5700</td> <td>   25.388</td> <td>  118.937</td> <td> 0.000</td> <td> 2969.810</td> <td> 3069.330</td>\n",
       "</tr>\n",
       "<tr>\n",
       "  <th>ma.L1</th>  <td>    0.9599</td> <td>    0.011</td> <td>   88.651</td> <td> 0.000</td> <td>    0.939</td> <td>    0.981</td>\n",
       "</tr>\n",
       "<tr>\n",
       "  <th>sigma2</th> <td> 1.011e+05</td> <td> 7582.870</td> <td>   13.331</td> <td> 0.000</td> <td> 8.62e+04</td> <td> 1.16e+05</td>\n",
       "</tr>\n",
       "</table>\n",
       "<table class=\"simpletable\">\n",
       "<tr>\n",
       "  <th>Ljung-Box (L1) (Q):</th>     <td>604.17</td> <th>  Jarque-Bera (JB):  </th> <td>37.33</td>\n",
       "</tr>\n",
       "<tr>\n",
       "  <th>Prob(Q):</th>                 <td>0.00</td>  <th>  Prob(JB):          </th> <td>0.00</td> \n",
       "</tr>\n",
       "<tr>\n",
       "  <th>Heteroskedasticity (H):</th>  <td>0.70</td>  <th>  Skew:              </th> <td>-0.38</td>\n",
       "</tr>\n",
       "<tr>\n",
       "  <th>Prob(H) (two-sided):</th>     <td>0.01</td>  <th>  Kurtosis:          </th> <td>2.19</td> \n",
       "</tr>\n",
       "</table><br/><br/>Warnings:<br/>[1] Covariance matrix calculated using the outer product of gradients (complex-step)."
      ],
      "text/plain": [
       "<class 'statsmodels.iolib.summary.Summary'>\n",
       "\"\"\"\n",
       "                               SARIMAX Results                                \n",
       "==============================================================================\n",
       "Dep. Variable:                  close   No. Observations:                  725\n",
       "Model:                 ARIMA(0, 0, 1)   Log Likelihood               -5207.364\n",
       "Date:                Wed, 06 Apr 2022   AIC                          10420.728\n",
       "Time:                        23:00:57   BIC                          10434.487\n",
       "Sample:                    04-07-2020   HQIC                         10426.038\n",
       "                         - 04-01-2022                                         \n",
       "Covariance Type:                  opg                                         \n",
       "==============================================================================\n",
       "                 coef    std err          z      P>|z|      [0.025      0.975]\n",
       "------------------------------------------------------------------------------\n",
       "const       3019.5700     25.388    118.937      0.000    2969.810    3069.330\n",
       "ma.L1          0.9599      0.011     88.651      0.000       0.939       0.981\n",
       "sigma2      1.011e+05   7582.870     13.331      0.000    8.62e+04    1.16e+05\n",
       "===================================================================================\n",
       "Ljung-Box (L1) (Q):                 604.17   Jarque-Bera (JB):                37.33\n",
       "Prob(Q):                              0.00   Prob(JB):                         0.00\n",
       "Heteroskedasticity (H):               0.70   Skew:                            -0.38\n",
       "Prob(H) (two-sided):                  0.01   Kurtosis:                         2.19\n",
       "===================================================================================\n",
       "\n",
       "Warnings:\n",
       "[1] Covariance matrix calculated using the outer product of gradients (complex-step).\n",
       "\"\"\""
      ]
     },
     "execution_count": 53,
     "metadata": {},
     "output_type": "execute_result"
    }
   ],
   "source": [
    "# Moving avg - 1\n",
    "ARIMA(data, order=[0,0,1]).fit().summary()"
   ]
  },
  {
   "cell_type": "code",
   "execution_count": 54,
   "id": "9ee96b6a",
   "metadata": {},
   "outputs": [
    {
     "data": {
      "text/html": [
       "<table class=\"simpletable\">\n",
       "<caption>SARIMAX Results</caption>\n",
       "<tr>\n",
       "  <th>Dep. Variable:</th>         <td>close</td>      <th>  No. Observations:  </th>    <td>725</td>   \n",
       "</tr>\n",
       "<tr>\n",
       "  <th>Model:</th>            <td>ARIMA(0, 0, 2)</td>  <th>  Log Likelihood     </th> <td>-4821.643</td>\n",
       "</tr>\n",
       "<tr>\n",
       "  <th>Date:</th>            <td>Wed, 06 Apr 2022</td> <th>  AIC                </th> <td>9651.286</td> \n",
       "</tr>\n",
       "<tr>\n",
       "  <th>Time:</th>                <td>23:00:58</td>     <th>  BIC                </th> <td>9669.631</td> \n",
       "</tr>\n",
       "<tr>\n",
       "  <th>Sample:</th>             <td>04-07-2020</td>    <th>  HQIC               </th> <td>9658.366</td> \n",
       "</tr>\n",
       "<tr>\n",
       "  <th></th>                   <td>- 04-01-2022</td>   <th>                     </th>     <td> </td>    \n",
       "</tr>\n",
       "<tr>\n",
       "  <th>Covariance Type:</th>        <td>opg</td>       <th>                     </th>     <td> </td>    \n",
       "</tr>\n",
       "</table>\n",
       "<table class=\"simpletable\">\n",
       "<tr>\n",
       "     <td></td>       <th>coef</th>     <th>std err</th>      <th>z</th>      <th>P>|z|</th>  <th>[0.025</th>    <th>0.975]</th>  \n",
       "</tr>\n",
       "<tr>\n",
       "  <th>const</th>  <td> 3019.5572</td> <td>   26.209</td> <td>  115.210</td> <td> 0.000</td> <td> 2968.188</td> <td> 3070.926</td>\n",
       "</tr>\n",
       "<tr>\n",
       "  <th>ma.L1</th>  <td>    1.6658</td> <td>    0.019</td> <td>   86.400</td> <td> 0.000</td> <td>    1.628</td> <td>    1.704</td>\n",
       "</tr>\n",
       "<tr>\n",
       "  <th>ma.L2</th>  <td>    0.8785</td> <td>    0.019</td> <td>   45.538</td> <td> 0.000</td> <td>    0.841</td> <td>    0.916</td>\n",
       "</tr>\n",
       "<tr>\n",
       "  <th>sigma2</th> <td> 3.479e+04</td> <td> 2286.231</td> <td>   15.216</td> <td> 0.000</td> <td> 3.03e+04</td> <td> 3.93e+04</td>\n",
       "</tr>\n",
       "</table>\n",
       "<table class=\"simpletable\">\n",
       "<tr>\n",
       "  <th>Ljung-Box (L1) (Q):</th>     <td>374.30</td> <th>  Jarque-Bera (JB):  </th> <td>19.48</td>\n",
       "</tr>\n",
       "<tr>\n",
       "  <th>Prob(Q):</th>                 <td>0.00</td>  <th>  Prob(JB):          </th> <td>0.00</td> \n",
       "</tr>\n",
       "<tr>\n",
       "  <th>Heteroskedasticity (H):</th>  <td>0.75</td>  <th>  Skew:              </th> <td>-0.29</td>\n",
       "</tr>\n",
       "<tr>\n",
       "  <th>Prob(H) (two-sided):</th>     <td>0.03</td>  <th>  Kurtosis:          </th> <td>2.45</td> \n",
       "</tr>\n",
       "</table><br/><br/>Warnings:<br/>[1] Covariance matrix calculated using the outer product of gradients (complex-step)."
      ],
      "text/plain": [
       "<class 'statsmodels.iolib.summary.Summary'>\n",
       "\"\"\"\n",
       "                               SARIMAX Results                                \n",
       "==============================================================================\n",
       "Dep. Variable:                  close   No. Observations:                  725\n",
       "Model:                 ARIMA(0, 0, 2)   Log Likelihood               -4821.643\n",
       "Date:                Wed, 06 Apr 2022   AIC                           9651.286\n",
       "Time:                        23:00:58   BIC                           9669.631\n",
       "Sample:                    04-07-2020   HQIC                          9658.366\n",
       "                         - 04-01-2022                                         \n",
       "Covariance Type:                  opg                                         \n",
       "==============================================================================\n",
       "                 coef    std err          z      P>|z|      [0.025      0.975]\n",
       "------------------------------------------------------------------------------\n",
       "const       3019.5572     26.209    115.210      0.000    2968.188    3070.926\n",
       "ma.L1          1.6658      0.019     86.400      0.000       1.628       1.704\n",
       "ma.L2          0.8785      0.019     45.538      0.000       0.841       0.916\n",
       "sigma2      3.479e+04   2286.231     15.216      0.000    3.03e+04    3.93e+04\n",
       "===================================================================================\n",
       "Ljung-Box (L1) (Q):                 374.30   Jarque-Bera (JB):                19.48\n",
       "Prob(Q):                              0.00   Prob(JB):                         0.00\n",
       "Heteroskedasticity (H):               0.75   Skew:                            -0.29\n",
       "Prob(H) (two-sided):                  0.03   Kurtosis:                         2.45\n",
       "===================================================================================\n",
       "\n",
       "Warnings:\n",
       "[1] Covariance matrix calculated using the outer product of gradients (complex-step).\n",
       "\"\"\""
      ]
     },
     "execution_count": 54,
     "metadata": {},
     "output_type": "execute_result"
    }
   ],
   "source": [
    "# Moving avg - 2\n",
    "ARIMA(data, order=[0,0,2]).fit().summary()"
   ]
  },
  {
   "cell_type": "code",
   "execution_count": 55,
   "id": "f470581f",
   "metadata": {
    "scrolled": false
   },
   "outputs": [
    {
     "data": {
      "text/html": [
       "<table class=\"simpletable\">\n",
       "<caption>SARIMAX Results</caption>\n",
       "<tr>\n",
       "  <th>Dep. Variable:</th>         <td>close</td>      <th>  No. Observations:  </th>    <td>725</td>   \n",
       "</tr>\n",
       "<tr>\n",
       "  <th>Model:</th>            <td>ARIMA(0, 0, 3)</td>  <th>  Log Likelihood     </th> <td>-4581.315</td>\n",
       "</tr>\n",
       "<tr>\n",
       "  <th>Date:</th>            <td>Wed, 06 Apr 2022</td> <th>  AIC                </th> <td>9172.629</td> \n",
       "</tr>\n",
       "<tr>\n",
       "  <th>Time:</th>                <td>23:00:58</td>     <th>  BIC                </th> <td>9195.560</td> \n",
       "</tr>\n",
       "<tr>\n",
       "  <th>Sample:</th>             <td>04-07-2020</td>    <th>  HQIC               </th> <td>9181.479</td> \n",
       "</tr>\n",
       "<tr>\n",
       "  <th></th>                   <td>- 04-01-2022</td>   <th>                     </th>     <td> </td>    \n",
       "</tr>\n",
       "<tr>\n",
       "  <th>Covariance Type:</th>        <td>opg</td>       <th>                     </th>     <td> </td>    \n",
       "</tr>\n",
       "</table>\n",
       "<table class=\"simpletable\">\n",
       "<tr>\n",
       "     <td></td>       <th>coef</th>     <th>std err</th>      <th>z</th>      <th>P>|z|</th>  <th>[0.025</th>    <th>0.975]</th>  \n",
       "</tr>\n",
       "<tr>\n",
       "  <th>const</th>  <td> 3019.5696</td> <td>   27.484</td> <td>  109.866</td> <td> 0.000</td> <td> 2965.702</td> <td> 3073.437</td>\n",
       "</tr>\n",
       "<tr>\n",
       "  <th>ma.L1</th>  <td>    1.8713</td> <td>    0.028</td> <td>   67.926</td> <td> 0.000</td> <td>    1.817</td> <td>    1.925</td>\n",
       "</tr>\n",
       "<tr>\n",
       "  <th>ma.L2</th>  <td>    1.7272</td> <td>    0.042</td> <td>   41.198</td> <td> 0.000</td> <td>    1.645</td> <td>    1.809</td>\n",
       "</tr>\n",
       "<tr>\n",
       "  <th>ma.L3</th>  <td>    0.7499</td> <td>    0.027</td> <td>   27.329</td> <td> 0.000</td> <td>    0.696</td> <td>    0.804</td>\n",
       "</tr>\n",
       "<tr>\n",
       "  <th>sigma2</th> <td> 1.792e+04</td> <td> 1054.640</td> <td>   16.989</td> <td> 0.000</td> <td> 1.59e+04</td> <td>    2e+04</td>\n",
       "</tr>\n",
       "</table>\n",
       "<table class=\"simpletable\">\n",
       "<tr>\n",
       "  <th>Ljung-Box (L1) (Q):</th>     <td>202.19</td> <th>  Jarque-Bera (JB):  </th> <td>7.51</td> \n",
       "</tr>\n",
       "<tr>\n",
       "  <th>Prob(Q):</th>                 <td>0.00</td>  <th>  Prob(JB):          </th> <td>0.02</td> \n",
       "</tr>\n",
       "<tr>\n",
       "  <th>Heteroskedasticity (H):</th>  <td>0.77</td>  <th>  Skew:              </th> <td>-0.20</td>\n",
       "</tr>\n",
       "<tr>\n",
       "  <th>Prob(H) (two-sided):</th>     <td>0.05</td>  <th>  Kurtosis:          </th> <td>2.69</td> \n",
       "</tr>\n",
       "</table><br/><br/>Warnings:<br/>[1] Covariance matrix calculated using the outer product of gradients (complex-step)."
      ],
      "text/plain": [
       "<class 'statsmodels.iolib.summary.Summary'>\n",
       "\"\"\"\n",
       "                               SARIMAX Results                                \n",
       "==============================================================================\n",
       "Dep. Variable:                  close   No. Observations:                  725\n",
       "Model:                 ARIMA(0, 0, 3)   Log Likelihood               -4581.315\n",
       "Date:                Wed, 06 Apr 2022   AIC                           9172.629\n",
       "Time:                        23:00:58   BIC                           9195.560\n",
       "Sample:                    04-07-2020   HQIC                          9181.479\n",
       "                         - 04-01-2022                                         \n",
       "Covariance Type:                  opg                                         \n",
       "==============================================================================\n",
       "                 coef    std err          z      P>|z|      [0.025      0.975]\n",
       "------------------------------------------------------------------------------\n",
       "const       3019.5696     27.484    109.866      0.000    2965.702    3073.437\n",
       "ma.L1          1.8713      0.028     67.926      0.000       1.817       1.925\n",
       "ma.L2          1.7272      0.042     41.198      0.000       1.645       1.809\n",
       "ma.L3          0.7499      0.027     27.329      0.000       0.696       0.804\n",
       "sigma2      1.792e+04   1054.640     16.989      0.000    1.59e+04       2e+04\n",
       "===================================================================================\n",
       "Ljung-Box (L1) (Q):                 202.19   Jarque-Bera (JB):                 7.51\n",
       "Prob(Q):                              0.00   Prob(JB):                         0.02\n",
       "Heteroskedasticity (H):               0.77   Skew:                            -0.20\n",
       "Prob(H) (two-sided):                  0.05   Kurtosis:                         2.69\n",
       "===================================================================================\n",
       "\n",
       "Warnings:\n",
       "[1] Covariance matrix calculated using the outer product of gradients (complex-step).\n",
       "\"\"\""
      ]
     },
     "execution_count": 55,
     "metadata": {},
     "output_type": "execute_result"
    }
   ],
   "source": [
    "# Moving avg - 3\n",
    "ARIMA(data, order=[0,0,3]).fit().summary()"
   ]
  },
  {
   "cell_type": "markdown",
   "id": "c5311d05",
   "metadata": {},
   "source": [
    "In ARIMA model, the AIC values are reducing as we are increasing the moving average."
   ]
  },
  {
   "cell_type": "markdown",
   "id": "45cb102d",
   "metadata": {},
   "source": [
    "## Stationary test - Augmented Dicky (AD) fuller"
   ]
  },
  {
   "cell_type": "code",
   "execution_count": 56,
   "id": "3a6b6d48",
   "metadata": {},
   "outputs": [],
   "source": [
    " from statsmodels.tsa.stattools import adfuller"
   ]
  },
  {
   "cell_type": "markdown",
   "id": "bd026831",
   "metadata": {},
   "source": [
    "H0: Data is not stationary\n",
    "\n",
    "H1: Data is stationary"
   ]
  },
  {
   "cell_type": "code",
   "execution_count": 57,
   "id": "3ef62a8d",
   "metadata": {},
   "outputs": [
    {
     "name": "stdout",
     "output_type": "stream",
     "text": [
      "F-statistical: -1.6456892331317032\n",
      "p-value: 0.45928957567625106\n",
      "No. of lags: 0\n",
      "No. of observations: 724\n",
      "F-critical at different significant levels: {'1%': -3.4394144152232995, '5%': -2.8655403100177566, '10%': -2.5689002207655443}\n",
      "AIC: 7083.847353058782\n"
     ]
    }
   ],
   "source": [
    "stationary_test = adfuller(data, autolag=\"AIC\")\n",
    "print(\"F-statistical:\",stationary_test[0])\n",
    "print(\"p-value:\",stationary_test[1])\n",
    "print(\"No. of lags:\",stationary_test[2])\n",
    "print(\"No. of observations:\",stationary_test[3])\n",
    "print(\"F-critical at different significant levels:\",stationary_test[4])\n",
    "print(\"AIC:\",stationary_test[5])"
   ]
  },
  {
   "cell_type": "markdown",
   "id": "66219ac1",
   "metadata": {},
   "source": [
    "Since p-value > alpha (0.05) --> We accept H0 and hence, data is not stationary."
   ]
  },
  {
   "cell_type": "markdown",
   "id": "e8bd7fb1",
   "metadata": {},
   "source": [
    "### Checking the parameters which give the optimum AIC value"
   ]
  },
  {
   "cell_type": "markdown",
   "id": "cf17711a",
   "metadata": {},
   "source": [
    "#### 1) Auto-ARIMA method"
   ]
  },
  {
   "cell_type": "code",
   "execution_count": 58,
   "id": "a4a00953",
   "metadata": {},
   "outputs": [],
   "source": [
    "from pmdarima import auto_arima"
   ]
  },
  {
   "cell_type": "code",
   "execution_count": 59,
   "id": "4a22c49b",
   "metadata": {},
   "outputs": [
    {
     "data": {
      "text/html": [
       "<table class=\"simpletable\">\n",
       "<caption>SARIMAX Results</caption>\n",
       "<tr>\n",
       "  <th>Dep. Variable:</th>           <td>y</td>        <th>  No. Observations:  </th>    <td>725</td>   \n",
       "</tr>\n",
       "<tr>\n",
       "  <th>Model:</th>           <td>SARIMAX(0, 1, 0)</td> <th>  Log Likelihood     </th> <td>-3646.905</td>\n",
       "</tr>\n",
       "<tr>\n",
       "  <th>Date:</th>            <td>Wed, 06 Apr 2022</td> <th>  AIC                </th> <td>7297.810</td> \n",
       "</tr>\n",
       "<tr>\n",
       "  <th>Time:</th>                <td>23:01:00</td>     <th>  BIC                </th> <td>7306.979</td> \n",
       "</tr>\n",
       "<tr>\n",
       "  <th>Sample:</th>                  <td>0</td>        <th>  HQIC               </th> <td>7301.349</td> \n",
       "</tr>\n",
       "<tr>\n",
       "  <th></th>                      <td> - 725</td>      <th>                     </th>     <td> </td>    \n",
       "</tr>\n",
       "<tr>\n",
       "  <th>Covariance Type:</th>        <td>opg</td>       <th>                     </th>     <td> </td>    \n",
       "</tr>\n",
       "</table>\n",
       "<table class=\"simpletable\">\n",
       "<tr>\n",
       "      <td></td>         <th>coef</th>     <th>std err</th>      <th>z</th>      <th>P>|z|</th>  <th>[0.025</th>    <th>0.975]</th>  \n",
       "</tr>\n",
       "<tr>\n",
       "  <th>intercept</th> <td>    2.7397</td> <td>    1.393</td> <td>    1.966</td> <td> 0.049</td> <td>    0.009</td> <td>    5.470</td>\n",
       "</tr>\n",
       "<tr>\n",
       "  <th>sigma2</th>    <td> 1389.1481</td> <td>   38.032</td> <td>   36.526</td> <td> 0.000</td> <td> 1314.608</td> <td> 1463.689</td>\n",
       "</tr>\n",
       "</table>\n",
       "<table class=\"simpletable\">\n",
       "<tr>\n",
       "  <th>Ljung-Box (L1) (Q):</th>     <td>0.00</td> <th>  Jarque-Bera (JB):  </th> <td>908.65</td>\n",
       "</tr>\n",
       "<tr>\n",
       "  <th>Prob(Q):</th>                <td>0.95</td> <th>  Prob(JB):          </th>  <td>0.00</td> \n",
       "</tr>\n",
       "<tr>\n",
       "  <th>Heteroskedasticity (H):</th> <td>1.45</td> <th>  Skew:              </th>  <td>-0.29</td>\n",
       "</tr>\n",
       "<tr>\n",
       "  <th>Prob(H) (two-sided):</th>    <td>0.00</td> <th>  Kurtosis:          </th>  <td>8.46</td> \n",
       "</tr>\n",
       "</table><br/><br/>Warnings:<br/>[1] Covariance matrix calculated using the outer product of gradients (complex-step)."
      ],
      "text/plain": [
       "<class 'statsmodels.iolib.summary.Summary'>\n",
       "\"\"\"\n",
       "                               SARIMAX Results                                \n",
       "==============================================================================\n",
       "Dep. Variable:                      y   No. Observations:                  725\n",
       "Model:               SARIMAX(0, 1, 0)   Log Likelihood               -3646.905\n",
       "Date:                Wed, 06 Apr 2022   AIC                           7297.810\n",
       "Time:                        23:01:00   BIC                           7306.979\n",
       "Sample:                             0   HQIC                          7301.349\n",
       "                                - 725                                         \n",
       "Covariance Type:                  opg                                         \n",
       "==============================================================================\n",
       "                 coef    std err          z      P>|z|      [0.025      0.975]\n",
       "------------------------------------------------------------------------------\n",
       "intercept      2.7397      1.393      1.966      0.049       0.009       5.470\n",
       "sigma2      1389.1481     38.032     36.526      0.000    1314.608    1463.689\n",
       "===================================================================================\n",
       "Ljung-Box (L1) (Q):                   0.00   Jarque-Bera (JB):               908.65\n",
       "Prob(Q):                              0.95   Prob(JB):                         0.00\n",
       "Heteroskedasticity (H):               1.45   Skew:                            -0.29\n",
       "Prob(H) (two-sided):                  0.00   Kurtosis:                         8.46\n",
       "===================================================================================\n",
       "\n",
       "Warnings:\n",
       "[1] Covariance matrix calculated using the outer product of gradients (complex-step).\n",
       "\"\"\""
      ]
     },
     "execution_count": 59,
     "metadata": {},
     "output_type": "execute_result"
    }
   ],
   "source": [
    "auto_arima(data).summary()"
   ]
  },
  {
   "cell_type": "markdown",
   "id": "2bb0c7df",
   "metadata": {},
   "source": [
    "According to this method, the best values for p,d,q are (0,1,0) with both Intercept and sigma2 being significant(p-value < 0.05)."
   ]
  },
  {
   "cell_type": "markdown",
   "id": "dd8098a7",
   "metadata": {},
   "source": [
    "#### 2) without using auto_arima"
   ]
  },
  {
   "cell_type": "code",
   "execution_count": 60,
   "id": "b465e946",
   "metadata": {},
   "outputs": [],
   "source": [
    "import itertools"
   ]
  },
  {
   "cell_type": "code",
   "execution_count": 61,
   "id": "cd398b32",
   "metadata": {},
   "outputs": [
    {
     "name": "stdout",
     "output_type": "stream",
     "text": [
      "Examples of parameter combinations for Model...\n",
      "Model: (0, 0, 1)(0, 0, 1, 7)\n",
      "Model: (0, 0, 1)(0, 0, 2, 7)\n",
      "Model: (0, 0, 2)(0, 0, 3, 7)\n",
      "Model: (0, 0, 2)(0, 1, 0, 7)\n"
     ]
    }
   ],
   "source": [
    "p = q = range(0, 4)\n",
    "d= range(0,2)\n",
    "pdq = list(itertools.product(p, d, q))\n",
    "model_pdq = [(x[0], x[1], x[2], 7) for x in list(itertools.product(p, d, q))]\n",
    "print('Examples of parameter combinations for Model...')\n",
    "print('Model: {}{}'.format(pdq[1], model_pdq[1]))\n",
    "print('Model: {}{}'.format(pdq[1], model_pdq[2]))\n",
    "print('Model: {}{}'.format(pdq[2], model_pdq[3]))\n",
    "print('Model: {}{}'.format(pdq[2], model_pdq[4]))"
   ]
  },
  {
   "cell_type": "code",
   "execution_count": 62,
   "id": "45b6f905",
   "metadata": {},
   "outputs": [
    {
     "data": {
      "text/html": [
       "<div>\n",
       "<style scoped>\n",
       "    .dataframe tbody tr th:only-of-type {\n",
       "        vertical-align: middle;\n",
       "    }\n",
       "\n",
       "    .dataframe tbody tr th {\n",
       "        vertical-align: top;\n",
       "    }\n",
       "\n",
       "    .dataframe thead th {\n",
       "        text-align: right;\n",
       "    }\n",
       "</style>\n",
       "<table border=\"1\" class=\"dataframe\">\n",
       "  <thead>\n",
       "    <tr style=\"text-align: right;\">\n",
       "      <th></th>\n",
       "      <th>param</th>\n",
       "      <th>AIC</th>\n",
       "    </tr>\n",
       "  </thead>\n",
       "  <tbody>\n",
       "  </tbody>\n",
       "</table>\n",
       "</div>"
      ],
      "text/plain": [
       "Empty DataFrame\n",
       "Columns: [param, AIC]\n",
       "Index: []"
      ]
     },
     "execution_count": 62,
     "metadata": {},
     "output_type": "execute_result"
    }
   ],
   "source": [
    "arima_AIC= pd.DataFrame(columns=['param', 'AIC'])\n",
    "arima_AIC"
   ]
  },
  {
   "cell_type": "code",
   "execution_count": 63,
   "id": "e571cfb2",
   "metadata": {},
   "outputs": [
    {
     "name": "stdout",
     "output_type": "stream",
     "text": [
      "ARIMA(0, 0, 0) - AIC: 11359.10183444131\n",
      "ARIMA(0, 0, 1) - AIC: 10420.728110314827\n",
      "ARIMA(0, 0, 2) - AIC: 9651.286419789216\n",
      "ARIMA(0, 0, 3) - AIC: 9172.629021393232\n",
      "ARIMA(0, 1, 0) - AIC: 7299.711358971139\n",
      "ARIMA(0, 1, 1) - AIC: 7301.666639194744\n",
      "ARIMA(0, 1, 2) - AIC: 7303.263364661523\n",
      "ARIMA(0, 1, 3) - AIC: 7304.583326038119\n",
      "ARIMA(1, 0, 0) - AIC: 7319.965617459683\n",
      "ARIMA(1, 0, 1) - AIC: 7321.908468099689\n",
      "ARIMA(1, 0, 2) - AIC: 7323.520713131625\n",
      "ARIMA(1, 0, 3) - AIC: 7324.806194244169\n",
      "ARIMA(1, 1, 0) - AIC: 7301.668596615312\n",
      "ARIMA(1, 1, 1) - AIC: 7303.249746224741\n",
      "ARIMA(1, 1, 2) - AIC: 7305.4018515066555\n",
      "ARIMA(1, 1, 3) - AIC: 7306.237266918621\n",
      "ARIMA(2, 0, 0) - AIC: 7321.910877005528\n",
      "ARIMA(2, 0, 1) - AIC: 7323.955746188896\n",
      "ARIMA(2, 0, 2) - AIC: 7325.872173550127\n",
      "ARIMA(2, 0, 3) - AIC: 7326.462467220148\n",
      "ARIMA(2, 1, 0) - AIC: 7303.330016537468\n",
      "ARIMA(2, 1, 1) - AIC: 7304.7017372569135\n",
      "ARIMA(2, 1, 2) - AIC: 7304.867804083252\n",
      "ARIMA(2, 1, 3) - AIC: 7304.500603213997\n",
      "ARIMA(3, 0, 0) - AIC: 7323.58840979665\n",
      "ARIMA(3, 0, 1) - AIC: 7324.9526551014715\n",
      "ARIMA(3, 0, 2) - AIC: 7319.496426202628\n",
      "ARIMA(3, 0, 3) - AIC: 7324.775329232063\n",
      "ARIMA(3, 1, 0) - AIC: 7304.471694373533\n",
      "ARIMA(3, 1, 1) - AIC: 7305.923116461865\n",
      "ARIMA(3, 1, 2) - AIC: 7304.734156249365\n",
      "ARIMA(3, 1, 3) - AIC: 7306.1321798504805\n"
     ]
    }
   ],
   "source": [
    "for param in pdq:\n",
    "    arima_mod = ARIMA(data, order=param).fit()\n",
    "    print(\"ARIMA{} - AIC: {}\".format(param,arima_mod.aic))\n",
    "    arima_AIC = arima_AIC.append({'param':param, 'AIC':arima_mod.aic}, ignore_index=True)"
   ]
  },
  {
   "cell_type": "code",
   "execution_count": 64,
   "id": "dd73e1e3",
   "metadata": {},
   "outputs": [
    {
     "data": {
      "text/html": [
       "<div>\n",
       "<style scoped>\n",
       "    .dataframe tbody tr th:only-of-type {\n",
       "        vertical-align: middle;\n",
       "    }\n",
       "\n",
       "    .dataframe tbody tr th {\n",
       "        vertical-align: top;\n",
       "    }\n",
       "\n",
       "    .dataframe thead th {\n",
       "        text-align: right;\n",
       "    }\n",
       "</style>\n",
       "<table border=\"1\" class=\"dataframe\">\n",
       "  <thead>\n",
       "    <tr style=\"text-align: right;\">\n",
       "      <th></th>\n",
       "      <th>param</th>\n",
       "      <th>AIC</th>\n",
       "    </tr>\n",
       "  </thead>\n",
       "  <tbody>\n",
       "    <tr>\n",
       "      <th>4</th>\n",
       "      <td>(0, 1, 0)</td>\n",
       "      <td>7299.711359</td>\n",
       "    </tr>\n",
       "    <tr>\n",
       "      <th>5</th>\n",
       "      <td>(0, 1, 1)</td>\n",
       "      <td>7301.666639</td>\n",
       "    </tr>\n",
       "    <tr>\n",
       "      <th>12</th>\n",
       "      <td>(1, 1, 0)</td>\n",
       "      <td>7301.668597</td>\n",
       "    </tr>\n",
       "    <tr>\n",
       "      <th>13</th>\n",
       "      <td>(1, 1, 1)</td>\n",
       "      <td>7303.249746</td>\n",
       "    </tr>\n",
       "    <tr>\n",
       "      <th>6</th>\n",
       "      <td>(0, 1, 2)</td>\n",
       "      <td>7303.263365</td>\n",
       "    </tr>\n",
       "    <tr>\n",
       "      <th>20</th>\n",
       "      <td>(2, 1, 0)</td>\n",
       "      <td>7303.330017</td>\n",
       "    </tr>\n",
       "    <tr>\n",
       "      <th>28</th>\n",
       "      <td>(3, 1, 0)</td>\n",
       "      <td>7304.471694</td>\n",
       "    </tr>\n",
       "    <tr>\n",
       "      <th>23</th>\n",
       "      <td>(2, 1, 3)</td>\n",
       "      <td>7304.500603</td>\n",
       "    </tr>\n",
       "    <tr>\n",
       "      <th>7</th>\n",
       "      <td>(0, 1, 3)</td>\n",
       "      <td>7304.583326</td>\n",
       "    </tr>\n",
       "    <tr>\n",
       "      <th>21</th>\n",
       "      <td>(2, 1, 1)</td>\n",
       "      <td>7304.701737</td>\n",
       "    </tr>\n",
       "    <tr>\n",
       "      <th>30</th>\n",
       "      <td>(3, 1, 2)</td>\n",
       "      <td>7304.734156</td>\n",
       "    </tr>\n",
       "    <tr>\n",
       "      <th>22</th>\n",
       "      <td>(2, 1, 2)</td>\n",
       "      <td>7304.867804</td>\n",
       "    </tr>\n",
       "    <tr>\n",
       "      <th>14</th>\n",
       "      <td>(1, 1, 2)</td>\n",
       "      <td>7305.401852</td>\n",
       "    </tr>\n",
       "    <tr>\n",
       "      <th>29</th>\n",
       "      <td>(3, 1, 1)</td>\n",
       "      <td>7305.923116</td>\n",
       "    </tr>\n",
       "    <tr>\n",
       "      <th>31</th>\n",
       "      <td>(3, 1, 3)</td>\n",
       "      <td>7306.132180</td>\n",
       "    </tr>\n",
       "    <tr>\n",
       "      <th>15</th>\n",
       "      <td>(1, 1, 3)</td>\n",
       "      <td>7306.237267</td>\n",
       "    </tr>\n",
       "    <tr>\n",
       "      <th>26</th>\n",
       "      <td>(3, 0, 2)</td>\n",
       "      <td>7319.496426</td>\n",
       "    </tr>\n",
       "    <tr>\n",
       "      <th>8</th>\n",
       "      <td>(1, 0, 0)</td>\n",
       "      <td>7319.965617</td>\n",
       "    </tr>\n",
       "    <tr>\n",
       "      <th>9</th>\n",
       "      <td>(1, 0, 1)</td>\n",
       "      <td>7321.908468</td>\n",
       "    </tr>\n",
       "    <tr>\n",
       "      <th>16</th>\n",
       "      <td>(2, 0, 0)</td>\n",
       "      <td>7321.910877</td>\n",
       "    </tr>\n",
       "    <tr>\n",
       "      <th>10</th>\n",
       "      <td>(1, 0, 2)</td>\n",
       "      <td>7323.520713</td>\n",
       "    </tr>\n",
       "    <tr>\n",
       "      <th>24</th>\n",
       "      <td>(3, 0, 0)</td>\n",
       "      <td>7323.588410</td>\n",
       "    </tr>\n",
       "    <tr>\n",
       "      <th>17</th>\n",
       "      <td>(2, 0, 1)</td>\n",
       "      <td>7323.955746</td>\n",
       "    </tr>\n",
       "    <tr>\n",
       "      <th>27</th>\n",
       "      <td>(3, 0, 3)</td>\n",
       "      <td>7324.775329</td>\n",
       "    </tr>\n",
       "    <tr>\n",
       "      <th>11</th>\n",
       "      <td>(1, 0, 3)</td>\n",
       "      <td>7324.806194</td>\n",
       "    </tr>\n",
       "    <tr>\n",
       "      <th>25</th>\n",
       "      <td>(3, 0, 1)</td>\n",
       "      <td>7324.952655</td>\n",
       "    </tr>\n",
       "    <tr>\n",
       "      <th>18</th>\n",
       "      <td>(2, 0, 2)</td>\n",
       "      <td>7325.872174</td>\n",
       "    </tr>\n",
       "    <tr>\n",
       "      <th>19</th>\n",
       "      <td>(2, 0, 3)</td>\n",
       "      <td>7326.462467</td>\n",
       "    </tr>\n",
       "    <tr>\n",
       "      <th>3</th>\n",
       "      <td>(0, 0, 3)</td>\n",
       "      <td>9172.629021</td>\n",
       "    </tr>\n",
       "    <tr>\n",
       "      <th>2</th>\n",
       "      <td>(0, 0, 2)</td>\n",
       "      <td>9651.286420</td>\n",
       "    </tr>\n",
       "    <tr>\n",
       "      <th>1</th>\n",
       "      <td>(0, 0, 1)</td>\n",
       "      <td>10420.728110</td>\n",
       "    </tr>\n",
       "    <tr>\n",
       "      <th>0</th>\n",
       "      <td>(0, 0, 0)</td>\n",
       "      <td>11359.101834</td>\n",
       "    </tr>\n",
       "  </tbody>\n",
       "</table>\n",
       "</div>"
      ],
      "text/plain": [
       "        param           AIC\n",
       "4   (0, 1, 0)   7299.711359\n",
       "5   (0, 1, 1)   7301.666639\n",
       "12  (1, 1, 0)   7301.668597\n",
       "13  (1, 1, 1)   7303.249746\n",
       "6   (0, 1, 2)   7303.263365\n",
       "20  (2, 1, 0)   7303.330017\n",
       "28  (3, 1, 0)   7304.471694\n",
       "23  (2, 1, 3)   7304.500603\n",
       "7   (0, 1, 3)   7304.583326\n",
       "21  (2, 1, 1)   7304.701737\n",
       "30  (3, 1, 2)   7304.734156\n",
       "22  (2, 1, 2)   7304.867804\n",
       "14  (1, 1, 2)   7305.401852\n",
       "29  (3, 1, 1)   7305.923116\n",
       "31  (3, 1, 3)   7306.132180\n",
       "15  (1, 1, 3)   7306.237267\n",
       "26  (3, 0, 2)   7319.496426\n",
       "8   (1, 0, 0)   7319.965617\n",
       "9   (1, 0, 1)   7321.908468\n",
       "16  (2, 0, 0)   7321.910877\n",
       "10  (1, 0, 2)   7323.520713\n",
       "24  (3, 0, 0)   7323.588410\n",
       "17  (2, 0, 1)   7323.955746\n",
       "27  (3, 0, 3)   7324.775329\n",
       "11  (1, 0, 3)   7324.806194\n",
       "25  (3, 0, 1)   7324.952655\n",
       "18  (2, 0, 2)   7325.872174\n",
       "19  (2, 0, 3)   7326.462467\n",
       "3   (0, 0, 3)   9172.629021\n",
       "2   (0, 0, 2)   9651.286420\n",
       "1   (0, 0, 1)  10420.728110\n",
       "0   (0, 0, 0)  11359.101834"
      ]
     },
     "execution_count": 64,
     "metadata": {},
     "output_type": "execute_result"
    }
   ],
   "source": [
    "arima_AIC.sort_values(by='AIC', ascending=True)"
   ]
  },
  {
   "cell_type": "markdown",
   "id": "715c5482",
   "metadata": {},
   "source": [
    "According to second method too, the best parameters are (0,1,0)."
   ]
  },
  {
   "cell_type": "code",
   "execution_count": 65,
   "id": "cf9a53a2",
   "metadata": {},
   "outputs": [
    {
     "name": "stdout",
     "output_type": "stream",
     "text": [
      "Performing stepwise search to minimize aic\n",
      " ARIMA(1,1,1)(0,0,0)[0] intercept   : AIC=7301.815, Time=0.06 sec\n",
      " ARIMA(0,1,0)(0,0,0)[0] intercept   : AIC=7297.810, Time=0.01 sec\n",
      " ARIMA(1,1,0)(0,0,0)[0] intercept   : AIC=7299.807, Time=0.08 sec\n",
      " ARIMA(0,1,1)(0,0,0)[0] intercept   : AIC=7299.810, Time=0.05 sec\n",
      " ARIMA(0,1,0)(0,0,0)[0]             : AIC=7299.711, Time=0.02 sec\n",
      "\n",
      "Best model:  ARIMA(0,1,0)(0,0,0)[0] intercept\n",
      "Total fit time: 0.227 seconds\n"
     ]
    },
    {
     "data": {
      "text/plain": [
       "ARIMA(order=(0, 1, 0), scoring_args={}, suppress_warnings=True)"
      ]
     },
     "execution_count": 65,
     "metadata": {},
     "output_type": "execute_result"
    }
   ],
   "source": [
    "auto_arima(data, start_p=1, start_q=1, max_p=3, max_q=3, start_P=0, seasonal=True,\n",
    "            d=1, D=1, trace=True, error_action='ignore', suppress_warnings=True, stepwise=True)"
   ]
  },
  {
   "cell_type": "markdown",
   "id": "5f420dda",
   "metadata": {},
   "source": [
    "## Predicting the close price for the next 15 days"
   ]
  },
  {
   "cell_type": "code",
   "execution_count": 66,
   "id": "5097e5e0",
   "metadata": {},
   "outputs": [
    {
     "name": "stdout",
     "output_type": "stream",
     "text": [
      "Performing stepwise search to minimize aic\n",
      " ARIMA(1,1,1)(0,0,0)[0] intercept   : AIC=6036.969, Time=0.26 sec\n",
      " ARIMA(0,1,0)(0,0,0)[0] intercept   : AIC=6033.515, Time=0.02 sec\n",
      " ARIMA(1,1,0)(0,0,0)[0] intercept   : AIC=6035.495, Time=0.05 sec\n",
      " ARIMA(0,1,1)(0,0,0)[0] intercept   : AIC=6035.492, Time=0.06 sec\n",
      " ARIMA(0,1,0)(0,0,0)[0]             : AIC=6035.682, Time=0.02 sec\n",
      "\n",
      "Best model:  ARIMA(0,1,0)(0,0,0)[0] intercept\n",
      "Total fit time: 0.422 seconds\n"
     ]
    }
   ],
   "source": [
    "model = auto_arima(train, start_p=1, start_q=1, max_p=3, max_q=3, start_P=0, seasonal=True,\n",
    "            d=1, D=1, trace=True, error_action='ignore', suppress_warnings=True, stepwise=True)"
   ]
  },
  {
   "cell_type": "code",
   "execution_count": 67,
   "id": "2631d495",
   "metadata": {},
   "outputs": [
    {
     "data": {
      "text/plain": [
       "ARIMA(order=(0, 1, 0), scoring_args={}, suppress_warnings=True)"
      ]
     },
     "execution_count": 67,
     "metadata": {},
     "output_type": "execute_result"
    }
   ],
   "source": [
    "model.fit(train)"
   ]
  },
  {
   "cell_type": "code",
   "execution_count": 68,
   "id": "7e8c9f4e",
   "metadata": {},
   "outputs": [
    {
     "data": {
      "text/plain": [
       "array([3580.7893864 , 3583.7787728 , 3586.7681592 , 3589.75754561,\n",
       "       3592.74693201, 3595.73631841, 3598.72570481, 3601.71509121,\n",
       "       3604.70447761, 3607.69386401, 3610.68325041, 3613.67263682,\n",
       "       3616.66202322, 3619.65140962, 3622.64079602])"
      ]
     },
     "execution_count": 68,
     "metadata": {},
     "output_type": "execute_result"
    }
   ],
   "source": [
    "model.predict(15)"
   ]
  },
  {
   "cell_type": "code",
   "execution_count": 69,
   "id": "f40c883e",
   "metadata": {},
   "outputs": [],
   "source": [
    "import datetime"
   ]
  },
  {
   "cell_type": "code",
   "execution_count": 70,
   "id": "e4be919a",
   "metadata": {},
   "outputs": [],
   "source": [
    "dates = []\n",
    "pred_close_price = []\n",
    "for i in range(1,16): # 15 days\n",
    "    dates.append(data.index[-1] + datetime.timedelta(days=i))\n",
    "    pred_close_price.append(model.predict(len(test)+i)[-1])"
   ]
  },
  {
   "cell_type": "code",
   "execution_count": 71,
   "id": "bffe929d",
   "metadata": {},
   "outputs": [
    {
     "data": {
      "text/plain": [
       "[Timestamp('2022-04-02 00:00:00', freq='D'),\n",
       " Timestamp('2022-04-03 00:00:00', freq='D'),\n",
       " Timestamp('2022-04-04 00:00:00', freq='D'),\n",
       " Timestamp('2022-04-05 00:00:00', freq='D'),\n",
       " Timestamp('2022-04-06 00:00:00', freq='D'),\n",
       " Timestamp('2022-04-07 00:00:00', freq='D'),\n",
       " Timestamp('2022-04-08 00:00:00', freq='D'),\n",
       " Timestamp('2022-04-09 00:00:00', freq='D'),\n",
       " Timestamp('2022-04-10 00:00:00', freq='D'),\n",
       " Timestamp('2022-04-11 00:00:00', freq='D'),\n",
       " Timestamp('2022-04-12 00:00:00', freq='D'),\n",
       " Timestamp('2022-04-13 00:00:00', freq='D'),\n",
       " Timestamp('2022-04-14 00:00:00', freq='D'),\n",
       " Timestamp('2022-04-15 00:00:00', freq='D'),\n",
       " Timestamp('2022-04-16 00:00:00', freq='D')]"
      ]
     },
     "execution_count": 71,
     "metadata": {},
     "output_type": "execute_result"
    }
   ],
   "source": [
    "dates"
   ]
  },
  {
   "cell_type": "markdown",
   "id": "12e4d7bc",
   "metadata": {},
   "source": [
    "### Next 15 days predicted close price values"
   ]
  },
  {
   "cell_type": "code",
   "execution_count": 72,
   "id": "4f163a52",
   "metadata": {},
   "outputs": [
    {
     "data": {
      "text/html": [
       "<div>\n",
       "<style scoped>\n",
       "    .dataframe tbody tr th:only-of-type {\n",
       "        vertical-align: middle;\n",
       "    }\n",
       "\n",
       "    .dataframe tbody tr th {\n",
       "        vertical-align: top;\n",
       "    }\n",
       "\n",
       "    .dataframe thead th {\n",
       "        text-align: right;\n",
       "    }\n",
       "</style>\n",
       "<table border=\"1\" class=\"dataframe\">\n",
       "  <thead>\n",
       "    <tr style=\"text-align: right;\">\n",
       "      <th></th>\n",
       "      <th>Predicted Close Price</th>\n",
       "    </tr>\n",
       "  </thead>\n",
       "  <tbody>\n",
       "    <tr>\n",
       "      <th>2022-04-02</th>\n",
       "      <td>3942.505141</td>\n",
       "    </tr>\n",
       "    <tr>\n",
       "      <th>2022-04-03</th>\n",
       "      <td>3945.494527</td>\n",
       "    </tr>\n",
       "    <tr>\n",
       "      <th>2022-04-04</th>\n",
       "      <td>3948.483914</td>\n",
       "    </tr>\n",
       "    <tr>\n",
       "      <th>2022-04-05</th>\n",
       "      <td>3951.473300</td>\n",
       "    </tr>\n",
       "    <tr>\n",
       "      <th>2022-04-06</th>\n",
       "      <td>3954.462687</td>\n",
       "    </tr>\n",
       "    <tr>\n",
       "      <th>2022-04-07</th>\n",
       "      <td>3957.452073</td>\n",
       "    </tr>\n",
       "    <tr>\n",
       "      <th>2022-04-08</th>\n",
       "      <td>3960.441459</td>\n",
       "    </tr>\n",
       "    <tr>\n",
       "      <th>2022-04-09</th>\n",
       "      <td>3963.430846</td>\n",
       "    </tr>\n",
       "    <tr>\n",
       "      <th>2022-04-10</th>\n",
       "      <td>3966.420232</td>\n",
       "    </tr>\n",
       "    <tr>\n",
       "      <th>2022-04-11</th>\n",
       "      <td>3969.409619</td>\n",
       "    </tr>\n",
       "    <tr>\n",
       "      <th>2022-04-12</th>\n",
       "      <td>3972.399005</td>\n",
       "    </tr>\n",
       "    <tr>\n",
       "      <th>2022-04-13</th>\n",
       "      <td>3975.388391</td>\n",
       "    </tr>\n",
       "    <tr>\n",
       "      <th>2022-04-14</th>\n",
       "      <td>3978.377778</td>\n",
       "    </tr>\n",
       "    <tr>\n",
       "      <th>2022-04-15</th>\n",
       "      <td>3981.367164</td>\n",
       "    </tr>\n",
       "    <tr>\n",
       "      <th>2022-04-16</th>\n",
       "      <td>3984.356551</td>\n",
       "    </tr>\n",
       "  </tbody>\n",
       "</table>\n",
       "</div>"
      ],
      "text/plain": [
       "            Predicted Close Price\n",
       "2022-04-02            3942.505141\n",
       "2022-04-03            3945.494527\n",
       "2022-04-04            3948.483914\n",
       "2022-04-05            3951.473300\n",
       "2022-04-06            3954.462687\n",
       "2022-04-07            3957.452073\n",
       "2022-04-08            3960.441459\n",
       "2022-04-09            3963.430846\n",
       "2022-04-10            3966.420232\n",
       "2022-04-11            3969.409619\n",
       "2022-04-12            3972.399005\n",
       "2022-04-13            3975.388391\n",
       "2022-04-14            3978.377778\n",
       "2022-04-15            3981.367164\n",
       "2022-04-16            3984.356551"
      ]
     },
     "execution_count": 72,
     "metadata": {},
     "output_type": "execute_result"
    }
   ],
   "source": [
    "pred_model = pd.DataFrame(pred_close_price, index=dates, columns=[\"Predicted Close Price\"])\n",
    "pred_model"
   ]
  },
  {
   "cell_type": "code",
   "execution_count": 73,
   "id": "34b2296f",
   "metadata": {},
   "outputs": [
    {
     "data": {
      "text/html": [
       "<div>\n",
       "<style scoped>\n",
       "    .dataframe tbody tr th:only-of-type {\n",
       "        vertical-align: middle;\n",
       "    }\n",
       "\n",
       "    .dataframe tbody tr th {\n",
       "        vertical-align: top;\n",
       "    }\n",
       "\n",
       "    .dataframe thead th {\n",
       "        text-align: right;\n",
       "    }\n",
       "</style>\n",
       "<table border=\"1\" class=\"dataframe\">\n",
       "  <thead>\n",
       "    <tr style=\"text-align: right;\">\n",
       "      <th></th>\n",
       "      <th>close</th>\n",
       "      <th>Predicted Close Price</th>\n",
       "    </tr>\n",
       "  </thead>\n",
       "  <tbody>\n",
       "    <tr>\n",
       "      <th>2022-03-28</th>\n",
       "      <td>3707.70</td>\n",
       "      <td>NaN</td>\n",
       "    </tr>\n",
       "    <tr>\n",
       "      <th>2022-03-29</th>\n",
       "      <td>3705.35</td>\n",
       "      <td>NaN</td>\n",
       "    </tr>\n",
       "    <tr>\n",
       "      <th>2022-03-30</th>\n",
       "      <td>3731.55</td>\n",
       "      <td>NaN</td>\n",
       "    </tr>\n",
       "    <tr>\n",
       "      <th>2022-03-31</th>\n",
       "      <td>3739.95</td>\n",
       "      <td>NaN</td>\n",
       "    </tr>\n",
       "    <tr>\n",
       "      <th>2022-04-01</th>\n",
       "      <td>3758.75</td>\n",
       "      <td>NaN</td>\n",
       "    </tr>\n",
       "    <tr>\n",
       "      <th>2022-04-02</th>\n",
       "      <td>NaN</td>\n",
       "      <td>3942.505141</td>\n",
       "    </tr>\n",
       "    <tr>\n",
       "      <th>2022-04-03</th>\n",
       "      <td>NaN</td>\n",
       "      <td>3945.494527</td>\n",
       "    </tr>\n",
       "    <tr>\n",
       "      <th>2022-04-04</th>\n",
       "      <td>NaN</td>\n",
       "      <td>3948.483914</td>\n",
       "    </tr>\n",
       "    <tr>\n",
       "      <th>2022-04-05</th>\n",
       "      <td>NaN</td>\n",
       "      <td>3951.473300</td>\n",
       "    </tr>\n",
       "    <tr>\n",
       "      <th>2022-04-06</th>\n",
       "      <td>NaN</td>\n",
       "      <td>3954.462687</td>\n",
       "    </tr>\n",
       "    <tr>\n",
       "      <th>2022-04-07</th>\n",
       "      <td>NaN</td>\n",
       "      <td>3957.452073</td>\n",
       "    </tr>\n",
       "    <tr>\n",
       "      <th>2022-04-08</th>\n",
       "      <td>NaN</td>\n",
       "      <td>3960.441459</td>\n",
       "    </tr>\n",
       "    <tr>\n",
       "      <th>2022-04-09</th>\n",
       "      <td>NaN</td>\n",
       "      <td>3963.430846</td>\n",
       "    </tr>\n",
       "    <tr>\n",
       "      <th>2022-04-10</th>\n",
       "      <td>NaN</td>\n",
       "      <td>3966.420232</td>\n",
       "    </tr>\n",
       "    <tr>\n",
       "      <th>2022-04-11</th>\n",
       "      <td>NaN</td>\n",
       "      <td>3969.409619</td>\n",
       "    </tr>\n",
       "    <tr>\n",
       "      <th>2022-04-12</th>\n",
       "      <td>NaN</td>\n",
       "      <td>3972.399005</td>\n",
       "    </tr>\n",
       "    <tr>\n",
       "      <th>2022-04-13</th>\n",
       "      <td>NaN</td>\n",
       "      <td>3975.388391</td>\n",
       "    </tr>\n",
       "    <tr>\n",
       "      <th>2022-04-14</th>\n",
       "      <td>NaN</td>\n",
       "      <td>3978.377778</td>\n",
       "    </tr>\n",
       "    <tr>\n",
       "      <th>2022-04-15</th>\n",
       "      <td>NaN</td>\n",
       "      <td>3981.367164</td>\n",
       "    </tr>\n",
       "    <tr>\n",
       "      <th>2022-04-16</th>\n",
       "      <td>NaN</td>\n",
       "      <td>3984.356551</td>\n",
       "    </tr>\n",
       "  </tbody>\n",
       "</table>\n",
       "</div>"
      ],
      "text/plain": [
       "              close  Predicted Close Price\n",
       "2022-03-28  3707.70                    NaN\n",
       "2022-03-29  3705.35                    NaN\n",
       "2022-03-30  3731.55                    NaN\n",
       "2022-03-31  3739.95                    NaN\n",
       "2022-04-01  3758.75                    NaN\n",
       "2022-04-02      NaN            3942.505141\n",
       "2022-04-03      NaN            3945.494527\n",
       "2022-04-04      NaN            3948.483914\n",
       "2022-04-05      NaN            3951.473300\n",
       "2022-04-06      NaN            3954.462687\n",
       "2022-04-07      NaN            3957.452073\n",
       "2022-04-08      NaN            3960.441459\n",
       "2022-04-09      NaN            3963.430846\n",
       "2022-04-10      NaN            3966.420232\n",
       "2022-04-11      NaN            3969.409619\n",
       "2022-04-12      NaN            3972.399005\n",
       "2022-04-13      NaN            3975.388391\n",
       "2022-04-14      NaN            3978.377778\n",
       "2022-04-15      NaN            3981.367164\n",
       "2022-04-16      NaN            3984.356551"
      ]
     },
     "execution_count": 73,
     "metadata": {},
     "output_type": "execute_result"
    }
   ],
   "source": [
    "final_df = pd.concat([data,pred_model])\n",
    "final_df.tail(20)"
   ]
  },
  {
   "cell_type": "code",
   "execution_count": 74,
   "id": "d2df0dcc",
   "metadata": {},
   "outputs": [
    {
     "data": {
      "image/png": "[encoded data removed]",
      "text/plain": [
       "<Figure size 1008x504 with 1 Axes>"
      ]
     },
     "metadata": {
      "needs_background": "light"
     },
     "output_type": "display_data"
    }
   ],
   "source": [
    "plt.plot(final_df)\n",
    "plt.title(\"Predicted Close price for next 15 days\")\n",
    "plt.legend(labels=[\"actual\",\"predicted\"])\n",
    "plt.xlabel(\"Date\")\n",
    "plt.ylabel(\"Close price\")\n",
    "plt.show()"
   ]
  },
  {
   "cell_type": "code",
   "execution_count": null,
   "id": "e1400c33",
   "metadata": {},
   "outputs": [],
   "source": []
  }
 ],
 "metadata": {
  "kernelspec": {
   "display_name": "Python 3 (ipykernel)",
   "language": "python",
   "name": "python3"
  },
  "language_info": {
   "codemirror_mode": {
    "name": "ipython",
    "version": 3
   },
   "file_extension": ".py",
   "mimetype": "text/x-python",
   "name": "python",
   "nbconvert_exporter": "python",
   "pygments_lexer": "ipython3",
   "version": "3.9.7"
  }
 },
 "nbformat": 4,
 "nbformat_minor": 5
}
